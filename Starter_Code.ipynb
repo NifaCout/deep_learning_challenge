{
  "cells": [
    {
      "cell_type": "markdown",
      "metadata": {
        "id": "y05mABnrXvAF"
      },
      "source": [
        "## Preprocessing"
      ]
    },
    {
      "cell_type": "code",
      "execution_count": 1,
      "metadata": {
        "colab": {
          "base_uri": "https://localhost:8080/",
          "height": 452
        },
        "id": "zYb3pVmmXvAI",
        "outputId": "93a57f34-dcbb-4248-e627-bda57488d6a2"
      },
      "outputs": [
        {
          "data": {
            "text/html": [
              "<div>\n",
              "<style scoped>\n",
              "    .dataframe tbody tr th:only-of-type {\n",
              "        vertical-align: middle;\n",
              "    }\n",
              "\n",
              "    .dataframe tbody tr th {\n",
              "        vertical-align: top;\n",
              "    }\n",
              "\n",
              "    .dataframe thead th {\n",
              "        text-align: right;\n",
              "    }\n",
              "</style>\n",
              "<table border=\"1\" class=\"dataframe\">\n",
              "  <thead>\n",
              "    <tr style=\"text-align: right;\">\n",
              "      <th></th>\n",
              "      <th>EIN</th>\n",
              "      <th>NAME</th>\n",
              "      <th>APPLICATION_TYPE</th>\n",
              "      <th>AFFILIATION</th>\n",
              "      <th>CLASSIFICATION</th>\n",
              "      <th>USE_CASE</th>\n",
              "      <th>ORGANIZATION</th>\n",
              "      <th>STATUS</th>\n",
              "      <th>INCOME_AMT</th>\n",
              "      <th>SPECIAL_CONSIDERATIONS</th>\n",
              "      <th>ASK_AMT</th>\n",
              "      <th>IS_SUCCESSFUL</th>\n",
              "    </tr>\n",
              "  </thead>\n",
              "  <tbody>\n",
              "    <tr>\n",
              "      <th>0</th>\n",
              "      <td>10520599</td>\n",
              "      <td>BLUE KNIGHTS MOTORCYCLE CLUB</td>\n",
              "      <td>T10</td>\n",
              "      <td>Independent</td>\n",
              "      <td>C1000</td>\n",
              "      <td>ProductDev</td>\n",
              "      <td>Association</td>\n",
              "      <td>1</td>\n",
              "      <td>0</td>\n",
              "      <td>N</td>\n",
              "      <td>5000</td>\n",
              "      <td>1</td>\n",
              "    </tr>\n",
              "    <tr>\n",
              "      <th>1</th>\n",
              "      <td>10531628</td>\n",
              "      <td>AMERICAN CHESAPEAKE CLUB CHARITABLE TR</td>\n",
              "      <td>T3</td>\n",
              "      <td>Independent</td>\n",
              "      <td>C2000</td>\n",
              "      <td>Preservation</td>\n",
              "      <td>Co-operative</td>\n",
              "      <td>1</td>\n",
              "      <td>1-9999</td>\n",
              "      <td>N</td>\n",
              "      <td>108590</td>\n",
              "      <td>1</td>\n",
              "    </tr>\n",
              "    <tr>\n",
              "      <th>2</th>\n",
              "      <td>10547893</td>\n",
              "      <td>ST CLOUD PROFESSIONAL FIREFIGHTERS</td>\n",
              "      <td>T5</td>\n",
              "      <td>CompanySponsored</td>\n",
              "      <td>C3000</td>\n",
              "      <td>ProductDev</td>\n",
              "      <td>Association</td>\n",
              "      <td>1</td>\n",
              "      <td>0</td>\n",
              "      <td>N</td>\n",
              "      <td>5000</td>\n",
              "      <td>0</td>\n",
              "    </tr>\n",
              "    <tr>\n",
              "      <th>3</th>\n",
              "      <td>10553066</td>\n",
              "      <td>SOUTHSIDE ATHLETIC ASSOCIATION</td>\n",
              "      <td>T3</td>\n",
              "      <td>CompanySponsored</td>\n",
              "      <td>C2000</td>\n",
              "      <td>Preservation</td>\n",
              "      <td>Trust</td>\n",
              "      <td>1</td>\n",
              "      <td>10000-24999</td>\n",
              "      <td>N</td>\n",
              "      <td>6692</td>\n",
              "      <td>1</td>\n",
              "    </tr>\n",
              "    <tr>\n",
              "      <th>4</th>\n",
              "      <td>10556103</td>\n",
              "      <td>GENETIC RESEARCH INSTITUTE OF THE DESERT</td>\n",
              "      <td>T3</td>\n",
              "      <td>Independent</td>\n",
              "      <td>C1000</td>\n",
              "      <td>Heathcare</td>\n",
              "      <td>Trust</td>\n",
              "      <td>1</td>\n",
              "      <td>100000-499999</td>\n",
              "      <td>N</td>\n",
              "      <td>142590</td>\n",
              "      <td>1</td>\n",
              "    </tr>\n",
              "  </tbody>\n",
              "</table>\n",
              "</div>"
            ],
            "text/plain": [
              "        EIN                                      NAME APPLICATION_TYPE  \\\n",
              "0  10520599              BLUE KNIGHTS MOTORCYCLE CLUB              T10   \n",
              "1  10531628    AMERICAN CHESAPEAKE CLUB CHARITABLE TR               T3   \n",
              "2  10547893        ST CLOUD PROFESSIONAL FIREFIGHTERS               T5   \n",
              "3  10553066            SOUTHSIDE ATHLETIC ASSOCIATION               T3   \n",
              "4  10556103  GENETIC RESEARCH INSTITUTE OF THE DESERT               T3   \n",
              "\n",
              "        AFFILIATION CLASSIFICATION      USE_CASE  ORGANIZATION  STATUS  \\\n",
              "0       Independent          C1000    ProductDev   Association       1   \n",
              "1       Independent          C2000  Preservation  Co-operative       1   \n",
              "2  CompanySponsored          C3000    ProductDev   Association       1   \n",
              "3  CompanySponsored          C2000  Preservation         Trust       1   \n",
              "4       Independent          C1000     Heathcare         Trust       1   \n",
              "\n",
              "      INCOME_AMT SPECIAL_CONSIDERATIONS  ASK_AMT  IS_SUCCESSFUL  \n",
              "0              0                      N     5000              1  \n",
              "1         1-9999                      N   108590              1  \n",
              "2              0                      N     5000              0  \n",
              "3    10000-24999                      N     6692              1  \n",
              "4  100000-499999                      N   142590              1  "
            ]
          },
          "execution_count": 1,
          "metadata": {},
          "output_type": "execute_result"
        }
      ],
      "source": [
        "# Import our dependencies\n",
        "from sklearn.model_selection import train_test_split\n",
        "from sklearn.preprocessing import StandardScaler\n",
        "import pandas as pd\n",
        "import tensorflow as tf\n",
        "from tensorflow.keras.models import Sequential\n",
        "from tensorflow.keras.layers import Dense\n",
        "import numpy as np\n",
        "import matplotlib.pyplot as plt\n",
        "\n",
        "#  Import and read the charity_data.csv.\n",
        "import pandas as pd\n",
        "application_df = pd.read_csv(\"https://static.bc-edx.com/data/dl-1-2/m21/lms/starter/charity_data.csv\")\n",
        "application_df.head()"
      ]
    },
    {
      "cell_type": "code",
      "execution_count": 2,
      "metadata": {
        "colab": {
          "base_uri": "https://localhost:8080/",
          "height": 261
        },
        "id": "W8IYTUNyXvAJ",
        "outputId": "b2984c26-50bd-4954-bf86-ad22eac762f3"
      },
      "outputs": [
        {
          "data": {
            "text/html": [
              "<div>\n",
              "<style scoped>\n",
              "    .dataframe tbody tr th:only-of-type {\n",
              "        vertical-align: middle;\n",
              "    }\n",
              "\n",
              "    .dataframe tbody tr th {\n",
              "        vertical-align: top;\n",
              "    }\n",
              "\n",
              "    .dataframe thead th {\n",
              "        text-align: right;\n",
              "    }\n",
              "</style>\n",
              "<table border=\"1\" class=\"dataframe\">\n",
              "  <thead>\n",
              "    <tr style=\"text-align: right;\">\n",
              "      <th></th>\n",
              "      <th>APPLICATION_TYPE</th>\n",
              "      <th>AFFILIATION</th>\n",
              "      <th>CLASSIFICATION</th>\n",
              "      <th>USE_CASE</th>\n",
              "      <th>ORGANIZATION</th>\n",
              "      <th>STATUS</th>\n",
              "      <th>INCOME_AMT</th>\n",
              "      <th>SPECIAL_CONSIDERATIONS</th>\n",
              "      <th>ASK_AMT</th>\n",
              "      <th>IS_SUCCESSFUL</th>\n",
              "    </tr>\n",
              "  </thead>\n",
              "  <tbody>\n",
              "    <tr>\n",
              "      <th>0</th>\n",
              "      <td>T10</td>\n",
              "      <td>Independent</td>\n",
              "      <td>C1000</td>\n",
              "      <td>ProductDev</td>\n",
              "      <td>Association</td>\n",
              "      <td>1</td>\n",
              "      <td>0</td>\n",
              "      <td>N</td>\n",
              "      <td>5000</td>\n",
              "      <td>1</td>\n",
              "    </tr>\n",
              "    <tr>\n",
              "      <th>1</th>\n",
              "      <td>T3</td>\n",
              "      <td>Independent</td>\n",
              "      <td>C2000</td>\n",
              "      <td>Preservation</td>\n",
              "      <td>Co-operative</td>\n",
              "      <td>1</td>\n",
              "      <td>1-9999</td>\n",
              "      <td>N</td>\n",
              "      <td>108590</td>\n",
              "      <td>1</td>\n",
              "    </tr>\n",
              "    <tr>\n",
              "      <th>2</th>\n",
              "      <td>T5</td>\n",
              "      <td>CompanySponsored</td>\n",
              "      <td>C3000</td>\n",
              "      <td>ProductDev</td>\n",
              "      <td>Association</td>\n",
              "      <td>1</td>\n",
              "      <td>0</td>\n",
              "      <td>N</td>\n",
              "      <td>5000</td>\n",
              "      <td>0</td>\n",
              "    </tr>\n",
              "    <tr>\n",
              "      <th>3</th>\n",
              "      <td>T3</td>\n",
              "      <td>CompanySponsored</td>\n",
              "      <td>C2000</td>\n",
              "      <td>Preservation</td>\n",
              "      <td>Trust</td>\n",
              "      <td>1</td>\n",
              "      <td>10000-24999</td>\n",
              "      <td>N</td>\n",
              "      <td>6692</td>\n",
              "      <td>1</td>\n",
              "    </tr>\n",
              "    <tr>\n",
              "      <th>4</th>\n",
              "      <td>T3</td>\n",
              "      <td>Independent</td>\n",
              "      <td>C1000</td>\n",
              "      <td>Heathcare</td>\n",
              "      <td>Trust</td>\n",
              "      <td>1</td>\n",
              "      <td>100000-499999</td>\n",
              "      <td>N</td>\n",
              "      <td>142590</td>\n",
              "      <td>1</td>\n",
              "    </tr>\n",
              "  </tbody>\n",
              "</table>\n",
              "</div>"
            ],
            "text/plain": [
              "  APPLICATION_TYPE       AFFILIATION CLASSIFICATION      USE_CASE  \\\n",
              "0              T10       Independent          C1000    ProductDev   \n",
              "1               T3       Independent          C2000  Preservation   \n",
              "2               T5  CompanySponsored          C3000    ProductDev   \n",
              "3               T3  CompanySponsored          C2000  Preservation   \n",
              "4               T3       Independent          C1000     Heathcare   \n",
              "\n",
              "   ORGANIZATION  STATUS     INCOME_AMT SPECIAL_CONSIDERATIONS  ASK_AMT  \\\n",
              "0   Association       1              0                      N     5000   \n",
              "1  Co-operative       1         1-9999                      N   108590   \n",
              "2   Association       1              0                      N     5000   \n",
              "3         Trust       1    10000-24999                      N     6692   \n",
              "4         Trust       1  100000-499999                      N   142590   \n",
              "\n",
              "   IS_SUCCESSFUL  \n",
              "0              1  \n",
              "1              1  \n",
              "2              0  \n",
              "3              1  \n",
              "4              1  "
            ]
          },
          "execution_count": 2,
          "metadata": {},
          "output_type": "execute_result"
        }
      ],
      "source": [
        "# Drop the non-beneficial ID columns, 'EIN' and 'NAME'.\n",
        "application_df = application_df.drop(columns=['EIN', 'NAME'])\n",
        "application_df.head()"
      ]
    },
    {
      "cell_type": "code",
      "execution_count": 3,
      "metadata": {
        "colab": {
          "base_uri": "https://localhost:8080/"
        },
        "id": "59zXJnf3XvAK",
        "outputId": "a80822dc-37f6-41c8-af12-350f3c24569e"
      },
      "outputs": [
        {
          "name": "stdout",
          "output_type": "stream",
          "text": [
            "APPLICATION_TYPE            17\n",
            "AFFILIATION                  6\n",
            "CLASSIFICATION              71\n",
            "USE_CASE                     5\n",
            "ORGANIZATION                 4\n",
            "STATUS                       2\n",
            "INCOME_AMT                   9\n",
            "SPECIAL_CONSIDERATIONS       2\n",
            "ASK_AMT                   8747\n",
            "IS_SUCCESSFUL                2\n",
            "dtype: int64\n"
          ]
        }
      ],
      "source": [
        "# Determine the number of unique values in each column.\n",
        "unique_counts = application_df.nunique()\n",
        "print(unique_counts)"
      ]
    },
    {
      "cell_type": "code",
      "execution_count": 4,
      "metadata": {
        "id": "1jw0w5Vmkd3G"
      },
      "outputs": [],
      "source": [
        "# Outlier Removal: For numerical columns like ASK_AMT\n",
        "application_df['ASK_AMT'] = np.log(application_df['ASK_AMT'] + 1)"
      ]
    },
    {
      "cell_type": "code",
      "execution_count": 5,
      "metadata": {
        "colab": {
          "base_uri": "https://localhost:8080/"
        },
        "id": "hfb2GtBDXvAK",
        "outputId": "ced1cfd1-dae1-4c9f-d0ed-408d862c94b8"
      },
      "outputs": [
        {
          "name": "stdout",
          "output_type": "stream",
          "text": [
            "T3     27037\n",
            "T4      1542\n",
            "T6      1216\n",
            "T5      1173\n",
            "T19     1065\n",
            "T8       737\n",
            "T7       725\n",
            "T10      528\n",
            "T9       156\n",
            "T13       66\n",
            "T12       27\n",
            "T2        16\n",
            "T25        3\n",
            "T14        3\n",
            "T29        2\n",
            "T15        2\n",
            "T17        1\n",
            "Name: APPLICATION_TYPE, dtype: int64\n"
          ]
        }
      ],
      "source": [
        "# Look at APPLICATION_TYPE value counts for binning\n",
        "application_type_counts = application_df[\"APPLICATION_TYPE\"].value_counts()\n",
        "print(application_type_counts)"
      ]
    },
    {
      "cell_type": "code",
      "execution_count": 6,
      "metadata": {
        "colab": {
          "base_uri": "https://localhost:8080/"
        },
        "id": "_t8YzblWXvAK",
        "outputId": "f81a069f-d212-41cb-9549-61e486a9a8da"
      },
      "outputs": [
        {
          "data": {
            "text/plain": [
              "T3       27037\n",
              "T4        1542\n",
              "T6        1216\n",
              "T5        1173\n",
              "T19       1065\n",
              "T8         737\n",
              "T7         725\n",
              "T10        528\n",
              "Other      276\n",
              "Name: APPLICATION_TYPE, dtype: int64"
            ]
          },
          "execution_count": 6,
          "metadata": {},
          "output_type": "execute_result"
        }
      ],
      "source": [
        "# Choose a cutoff value and create a list of application types to be replaced\n",
        "# use the variable name `application_types_to_replace`\n",
        "application_types_to_replace = application_type_counts[application_type_counts < 500].index.tolist()\n",
        "#print(application_types_to_replace)\n",
        "\n",
        "# Replace in dataframe\n",
        "for app in application_types_to_replace:\n",
        "    application_df['APPLICATION_TYPE'] = application_df['APPLICATION_TYPE'].replace(app,\"Other\")\n",
        "\n",
        "# Check to make sure binning was successful\n",
        "application_df['APPLICATION_TYPE'].value_counts()\n",
        "\n"
      ]
    },
    {
      "cell_type": "code",
      "execution_count": 7,
      "metadata": {
        "colab": {
          "base_uri": "https://localhost:8080/"
        },
        "id": "cg2GIppfXvAL",
        "outputId": "c39a0851-ac16-43fc-bd2f-0e780fb279e3"
      },
      "outputs": [
        {
          "name": "stdout",
          "output_type": "stream",
          "text": [
            "C1000    17326\n",
            "C2000     6074\n",
            "C1200     4837\n",
            "C3000     1918\n",
            "C2100     1883\n",
            "         ...  \n",
            "C4120        1\n",
            "C8210        1\n",
            "C2561        1\n",
            "C4500        1\n",
            "C2150        1\n",
            "Name: CLASSIFICATION, Length: 71, dtype: int64\n"
          ]
        }
      ],
      "source": [
        "# Look at CLASSIFICATION value counts for binning\n",
        "classification_counts = application_df['CLASSIFICATION'].value_counts()\n",
        "threshold = 500\n",
        "\n",
        "to_replace = classification_counts[classification_counts < threshold].index\n",
        "print(application_df['CLASSIFICATION'].value_counts())"
      ]
    },
    {
      "cell_type": "code",
      "execution_count": 8,
      "metadata": {
        "colab": {
          "base_uri": "https://localhost:8080/"
        },
        "id": "UbMPTDFMXvAL",
        "outputId": "2e798ba5-d86b-428d-e5ce-c6c4262aea31"
      },
      "outputs": [
        {
          "name": "stdout",
          "output_type": "stream",
          "text": [
            "T3     27037\n",
            "T4      1542\n",
            "T6      1216\n",
            "T5      1173\n",
            "T19     1065\n",
            "T8       737\n",
            "T7       725\n",
            "T10      528\n",
            "T9       156\n",
            "T13       66\n",
            "T12       27\n",
            "T2        16\n",
            "T25        3\n",
            "T14        3\n",
            "T29        2\n",
            "T15        2\n",
            "Name: APPLICATION_TYPE, dtype: int64\n"
          ]
        }
      ],
      "source": [
        "# You may find it helpful to look at CLASSIFICATION value counts >1\n",
        "classification_counts_gt1 = application_type_counts[application_type_counts > 1]\n",
        "print(classification_counts_gt1)"
      ]
    },
    {
      "cell_type": "code",
      "execution_count": 9,
      "metadata": {
        "colab": {
          "base_uri": "https://localhost:8080/"
        },
        "id": "MeTJbq1wXvAL",
        "outputId": "2718d45f-17be-4cdd-8eea-68ca4925d42c"
      },
      "outputs": [
        {
          "data": {
            "text/plain": [
              "C1000    17326\n",
              "C2000     6074\n",
              "C1200     4837\n",
              "C3000     1918\n",
              "C2100     1883\n",
              "Other     1484\n",
              "C7000      777\n",
              "Name: CLASSIFICATION, dtype: int64"
            ]
          },
          "execution_count": 9,
          "metadata": {},
          "output_type": "execute_result"
        }
      ],
      "source": [
        "# Choose a cutoff value and create a list of classifications to be replaced\n",
        "# use the variable name `classifications_to_replace`\n",
        "classifications_to_replace = classification_counts[classification_counts < 500].index.tolist()\n",
        "#print(classifications_to_replace)\n",
        "\n",
        "# Replace in dataframe\n",
        "for cls in classifications_to_replace:\n",
        "    application_df['CLASSIFICATION'] = application_df['CLASSIFICATION'].replace(classifications_to_replace, \"Other\")\n",
        "\n",
        "# Check to make sure binning was successful\n",
        "application_df['CLASSIFICATION'].value_counts()"
      ]
    },
    {
      "cell_type": "code",
      "execution_count": 11,
      "metadata": {
        "id": "3nreAZ61XvAM"
      },
      "outputs": [],
      "source": [
        "# Convert categorical data to numeric with `pd.get_dummies`\n",
        "application_df = pd.get_dummies(application_df)\n",
        "#print(application_df)"
      ]
    },
    {
      "cell_type": "code",
      "execution_count": 12,
      "metadata": {
        "colab": {
          "base_uri": "https://localhost:8080/"
        },
        "id": "gIlcx-RuXvAM",
        "outputId": "03597808-e3af-4950-f0c8-406229a43c62"
      },
      "outputs": [
        {
          "name": "stdout",
          "output_type": "stream",
          "text": [
            "[1.         8.51739317 0.         1.         0.         0.\n",
            " 0.         0.         0.         0.         0.         0.\n",
            " 0.         1.         0.         0.         0.         1.\n",
            " 0.         0.         0.         0.         0.         0.\n",
            " 0.         0.         0.         0.         1.         1.\n",
            " 0.         0.         0.         1.         0.         0.\n",
            " 0.         0.         0.         0.         0.         0.\n",
            " 1.         0.        ]\n",
            "1\n",
            "Training Data Count: 25724\n",
            "Testing Data Count: 8575\n"
          ]
        }
      ],
      "source": [
        "# Split our preprocessed data into our features and target arrays\n",
        "y = application_df[\"IS_SUCCESSFUL\"].values\n",
        "X = application_df.drop([\"IS_SUCCESSFUL\"], axis=1).values\n",
        "print(X[0])\n",
        "print(y[0])\n",
        "\n",
        "\n",
        "# Split the preprocessed data into a training and testing dataset\n",
        "X_train, X_test, y_train, y_test = train_test_split(X, y, random_state=78)\n",
        "print(f\"Training Data Count: {len(X_train)}\")\n",
        "print(f\"Testing Data Count: {len(X_test)}\")"
      ]
    },
    {
      "cell_type": "code",
      "execution_count": 13,
      "metadata": {
        "id": "JUVTfPh5XvAM"
      },
      "outputs": [],
      "source": [
        "# Create a StandardScaler instances\n",
        "scaler = StandardScaler()\n",
        "\n",
        "# Fit the StandardScaler\n",
        "X_scaler = scaler.fit(X_train)\n",
        "\n",
        "# Scale the data\n",
        "X_train_scaled = X_scaler.transform(X_train)\n",
        "X_test_scaled = X_scaler.transform(X_test)"
      ]
    },
    {
      "cell_type": "markdown",
      "metadata": {
        "id": "gQQzzoLrXvAM"
      },
      "source": [
        "## Compile, Train and Evaluate the Model"
      ]
    },
    {
      "cell_type": "code",
      "execution_count": 14,
      "metadata": {
        "colab": {
          "base_uri": "https://localhost:8080/"
        },
        "id": "sh33dTw9XvAM",
        "outputId": "5fa7ae1d-7210-4f34-b9d2-4795ad2ce5e7"
      },
      "outputs": [
        {
          "name": "stdout",
          "output_type": "stream",
          "text": [
            "Model: \"sequential\"\n",
            "_________________________________________________________________\n",
            " Layer (type)                Output Shape              Param #   \n",
            "=================================================================\n",
            " dense (Dense)               (None, 88)                3960      \n",
            "                                                                 \n",
            " dense_1 (Dense)             (None, 44)                3916      \n",
            "                                                                 \n",
            " dense_2 (Dense)             (None, 1)                 45        \n",
            "                                                                 \n",
            "=================================================================\n",
            "Total params: 7921 (30.94 KB)\n",
            "Trainable params: 7921 (30.94 KB)\n",
            "Non-trainable params: 0 (0.00 Byte)\n",
            "_________________________________________________________________\n"
          ]
        }
      ],
      "source": [
        "# Define the model - deep neural net, i.e., the number of input features and hidden nodes for each layer.\n",
        "number_input_features = len(X_train_scaled[0])\n",
        "\n",
        "nn = tf.keras.models.Sequential()\n",
        "\n",
        "# First hidden layer\n",
        "nn.add(tf.keras.layers.Dense(units=number_input_features*2, activation=\"relu\", input_dim=number_input_features))\n",
        "\n",
        "# Second hidden layer\n",
        "nn.add(tf.keras.layers.Dense(units=number_input_features, activation=\"relu\"))\n",
        "\n",
        "# Output layer\n",
        "nn.add(tf.keras.layers.Dense(units=1, activation=\"sigmoid\"))\n",
        "\n",
        "# Check the structure of the model\n",
        "nn.summary()"
      ]
    },
    {
      "cell_type": "code",
      "execution_count": 15,
      "metadata": {
        "id": "qlTXZ2dIXvAN"
      },
      "outputs": [],
      "source": [
        "# Compile the model\n",
        "nn.compile(loss='binary_crossentropy', optimizer='adam', metrics=['accuracy'])\n"
      ]
    },
    {
      "cell_type": "code",
      "execution_count": 16,
      "metadata": {
        "id": "H9DKSgRYmwKN"
      },
      "outputs": [],
      "source": [
        "checkpoint_path = \"model_weights/checkpoints.ckpt\"\n",
        "checkpoint_callback = tf.keras.callbacks.ModelCheckpoint(\n",
        "    filepath=checkpoint_path,\n",
        "    verbose=1,\n",
        "    save_weights_only=True,\n",
        "    save_freq='epoch',\n",
        "    save_best_only=False,\n",
        ")"
      ]
    },
    {
      "cell_type": "code",
      "execution_count": 17,
      "metadata": {
        "colab": {
          "base_uri": "https://localhost:8080/"
        },
        "id": "MJg3YETqXvAN",
        "outputId": "d7d8beaf-ff4a-4f81-d788-89efdbbd444b"
      },
      "outputs": [
        {
          "name": "stdout",
          "output_type": "stream",
          "text": [
            "Epoch 1/47\n",
            "761/804 [===========================>..] - ETA: 0s - loss: 0.5676 - accuracy: 0.7250\n",
            "Epoch 1: saving model to model_weights\\checkpoints.ckpt\n",
            "804/804 [==============================] - 2s 2ms/step - loss: 0.5666 - accuracy: 0.7252 - val_loss: 0.5591 - val_accuracy: 0.7235\n",
            "Epoch 2/47\n",
            "803/804 [============================>.] - ETA: 0s - loss: 0.5533 - accuracy: 0.7295\n",
            "Epoch 2: saving model to model_weights\\checkpoints.ckpt\n",
            "804/804 [==============================] - 1s 1ms/step - loss: 0.5532 - accuracy: 0.7296 - val_loss: 0.5530 - val_accuracy: 0.7244\n",
            "Epoch 3/47\n",
            "790/804 [============================>.] - ETA: 0s - loss: 0.5494 - accuracy: 0.7307\n",
            "Epoch 3: saving model to model_weights\\checkpoints.ckpt\n",
            "804/804 [==============================] - 1s 1ms/step - loss: 0.5496 - accuracy: 0.7308 - val_loss: 0.5525 - val_accuracy: 0.7255\n",
            "Epoch 4/47\n",
            "770/804 [===========================>..] - ETA: 0s - loss: 0.5487 - accuracy: 0.7315\n",
            "Epoch 4: saving model to model_weights\\checkpoints.ckpt\n",
            "804/804 [==============================] - 1s 1ms/step - loss: 0.5486 - accuracy: 0.7317 - val_loss: 0.5514 - val_accuracy: 0.7278\n",
            "Epoch 5/47\n",
            "772/804 [===========================>..] - ETA: 0s - loss: 0.5470 - accuracy: 0.7330\n",
            "Epoch 5: saving model to model_weights\\checkpoints.ckpt\n",
            "804/804 [==============================] - 1s 1ms/step - loss: 0.5475 - accuracy: 0.7324 - val_loss: 0.5535 - val_accuracy: 0.7270\n",
            "Epoch 6/47\n",
            "764/804 [===========================>..] - ETA: 0s - loss: 0.5467 - accuracy: 0.7339\n",
            "Epoch 6: saving model to model_weights\\checkpoints.ckpt\n",
            "804/804 [==============================] - 1s 1ms/step - loss: 0.5472 - accuracy: 0.7341 - val_loss: 0.5502 - val_accuracy: 0.7261\n",
            "Epoch 7/47\n",
            "792/804 [============================>.] - ETA: 0s - loss: 0.5447 - accuracy: 0.7343\n",
            "Epoch 7: saving model to model_weights\\checkpoints.ckpt\n",
            "804/804 [==============================] - 1s 1ms/step - loss: 0.5451 - accuracy: 0.7342 - val_loss: 0.5506 - val_accuracy: 0.7286\n",
            "Epoch 8/47\n",
            "781/804 [============================>.] - ETA: 0s - loss: 0.5438 - accuracy: 0.7334\n",
            "Epoch 8: saving model to model_weights\\checkpoints.ckpt\n",
            "804/804 [==============================] - 1s 2ms/step - loss: 0.5441 - accuracy: 0.7329 - val_loss: 0.5488 - val_accuracy: 0.7283\n",
            "Epoch 9/47\n",
            "798/804 [============================>.] - ETA: 0s - loss: 0.5438 - accuracy: 0.7350\n",
            "Epoch 9: saving model to model_weights\\checkpoints.ckpt\n",
            "804/804 [==============================] - 1s 1ms/step - loss: 0.5441 - accuracy: 0.7348 - val_loss: 0.5509 - val_accuracy: 0.7252\n",
            "Epoch 10/47\n",
            "762/804 [===========================>..] - ETA: 0s - loss: 0.5437 - accuracy: 0.7349\n",
            "Epoch 10: saving model to model_weights\\checkpoints.ckpt\n",
            "804/804 [==============================] - 1s 1ms/step - loss: 0.5443 - accuracy: 0.7345 - val_loss: 0.5501 - val_accuracy: 0.7282\n",
            "Epoch 11/47\n",
            "760/804 [===========================>..] - ETA: 0s - loss: 0.5434 - accuracy: 0.7343\n",
            "Epoch 11: saving model to model_weights\\checkpoints.ckpt\n",
            "804/804 [==============================] - 1s 1ms/step - loss: 0.5430 - accuracy: 0.7345 - val_loss: 0.5507 - val_accuracy: 0.7257\n",
            "Epoch 12/47\n",
            "801/804 [============================>.] - ETA: 0s - loss: 0.5424 - accuracy: 0.7366\n",
            "Epoch 12: saving model to model_weights\\checkpoints.ckpt\n",
            "804/804 [==============================] - 1s 1ms/step - loss: 0.5422 - accuracy: 0.7368 - val_loss: 0.5517 - val_accuracy: 0.7270\n",
            "Epoch 13/47\n",
            "764/804 [===========================>..] - ETA: 0s - loss: 0.5436 - accuracy: 0.7348\n",
            "Epoch 13: saving model to model_weights\\checkpoints.ckpt\n",
            "804/804 [==============================] - 1s 1ms/step - loss: 0.5427 - accuracy: 0.7352 - val_loss: 0.5507 - val_accuracy: 0.7264\n",
            "Epoch 14/47\n",
            "780/804 [============================>.] - ETA: 0s - loss: 0.5415 - accuracy: 0.7367\n",
            "Epoch 14: saving model to model_weights\\checkpoints.ckpt\n",
            "804/804 [==============================] - 1s 1ms/step - loss: 0.5418 - accuracy: 0.7363 - val_loss: 0.5486 - val_accuracy: 0.7259\n",
            "Epoch 15/47\n",
            "770/804 [===========================>..] - ETA: 0s - loss: 0.5413 - accuracy: 0.7368\n",
            "Epoch 15: saving model to model_weights\\checkpoints.ckpt\n",
            "804/804 [==============================] - 1s 1ms/step - loss: 0.5413 - accuracy: 0.7369 - val_loss: 0.5509 - val_accuracy: 0.7252\n",
            "Epoch 16/47\n",
            "761/804 [===========================>..] - ETA: 0s - loss: 0.5416 - accuracy: 0.7370\n",
            "Epoch 16: saving model to model_weights\\checkpoints.ckpt\n",
            "804/804 [==============================] - 1s 1ms/step - loss: 0.5409 - accuracy: 0.7368 - val_loss: 0.5499 - val_accuracy: 0.7275\n",
            "Epoch 17/47\n",
            "750/804 [==========================>...] - ETA: 0s - loss: 0.5414 - accuracy: 0.7375\n",
            "Epoch 17: saving model to model_weights\\checkpoints.ckpt\n",
            "804/804 [==============================] - 1s 1ms/step - loss: 0.5408 - accuracy: 0.7378 - val_loss: 0.5494 - val_accuracy: 0.7276\n",
            "Epoch 18/47\n",
            "793/804 [============================>.] - ETA: 0s - loss: 0.5396 - accuracy: 0.7390\n",
            "Epoch 18: saving model to model_weights\\checkpoints.ckpt\n",
            "804/804 [==============================] - 1s 1ms/step - loss: 0.5403 - accuracy: 0.7385 - val_loss: 0.5493 - val_accuracy: 0.7255\n",
            "Epoch 19/47\n",
            "760/804 [===========================>..] - ETA: 0s - loss: 0.5390 - accuracy: 0.7383\n",
            "Epoch 19: saving model to model_weights\\checkpoints.ckpt\n",
            "804/804 [==============================] - 1s 1ms/step - loss: 0.5398 - accuracy: 0.7375 - val_loss: 0.5502 - val_accuracy: 0.7289\n",
            "Epoch 20/47\n",
            "752/804 [===========================>..] - ETA: 0s - loss: 0.5395 - accuracy: 0.7372\n",
            "Epoch 20: saving model to model_weights\\checkpoints.ckpt\n",
            "804/804 [==============================] - 1s 1ms/step - loss: 0.5396 - accuracy: 0.7372 - val_loss: 0.5505 - val_accuracy: 0.7256\n",
            "Epoch 21/47\n",
            "766/804 [===========================>..] - ETA: 0s - loss: 0.5371 - accuracy: 0.7411\n",
            "Epoch 21: saving model to model_weights\\checkpoints.ckpt\n",
            "804/804 [==============================] - 1s 2ms/step - loss: 0.5392 - accuracy: 0.7396 - val_loss: 0.5502 - val_accuracy: 0.7250\n",
            "Epoch 22/47\n",
            "779/804 [============================>.] - ETA: 0s - loss: 0.5388 - accuracy: 0.7386\n",
            "Epoch 22: saving model to model_weights\\checkpoints.ckpt\n",
            "804/804 [==============================] - 1s 1ms/step - loss: 0.5389 - accuracy: 0.7389 - val_loss: 0.5477 - val_accuracy: 0.7276\n",
            "Epoch 23/47\n",
            "769/804 [===========================>..] - ETA: 0s - loss: 0.5378 - accuracy: 0.7386\n",
            "Epoch 23: saving model to model_weights\\checkpoints.ckpt\n",
            "804/804 [==============================] - 1s 1ms/step - loss: 0.5379 - accuracy: 0.7390 - val_loss: 0.5520 - val_accuracy: 0.7256\n",
            "Epoch 24/47\n",
            "765/804 [===========================>..] - ETA: 0s - loss: 0.5385 - accuracy: 0.7398\n",
            "Epoch 24: saving model to model_weights\\checkpoints.ckpt\n",
            "804/804 [==============================] - 1s 1ms/step - loss: 0.5383 - accuracy: 0.7404 - val_loss: 0.5486 - val_accuracy: 0.7282\n",
            "Epoch 25/47\n",
            "765/804 [===========================>..] - ETA: 0s - loss: 0.5371 - accuracy: 0.7399\n",
            "Epoch 25: saving model to model_weights\\checkpoints.ckpt\n",
            "804/804 [==============================] - 1s 1ms/step - loss: 0.5375 - accuracy: 0.7393 - val_loss: 0.5503 - val_accuracy: 0.7266\n",
            "Epoch 26/47\n",
            "793/804 [============================>.] - ETA: 0s - loss: 0.5369 - accuracy: 0.7398\n",
            "Epoch 26: saving model to model_weights\\checkpoints.ckpt\n",
            "804/804 [==============================] - 1s 1ms/step - loss: 0.5372 - accuracy: 0.7395 - val_loss: 0.5487 - val_accuracy: 0.7273\n",
            "Epoch 27/47\n",
            "792/804 [============================>.] - ETA: 0s - loss: 0.5368 - accuracy: 0.7398\n",
            "Epoch 27: saving model to model_weights\\checkpoints.ckpt\n",
            "804/804 [==============================] - 1s 1ms/step - loss: 0.5369 - accuracy: 0.7397 - val_loss: 0.5510 - val_accuracy: 0.7256\n",
            "Epoch 28/47\n",
            "754/804 [===========================>..] - ETA: 0s - loss: 0.5359 - accuracy: 0.7410\n",
            "Epoch 28: saving model to model_weights\\checkpoints.ckpt\n",
            "804/804 [==============================] - 1s 1ms/step - loss: 0.5371 - accuracy: 0.7401 - val_loss: 0.5518 - val_accuracy: 0.7255\n",
            "Epoch 29/47\n",
            "767/804 [===========================>..] - ETA: 0s - loss: 0.5382 - accuracy: 0.7402\n",
            "Epoch 29: saving model to model_weights\\checkpoints.ckpt\n",
            "804/804 [==============================] - 1s 1ms/step - loss: 0.5364 - accuracy: 0.7412 - val_loss: 0.5536 - val_accuracy: 0.7259\n",
            "Epoch 30/47\n",
            "753/804 [===========================>..] - ETA: 0s - loss: 0.5360 - accuracy: 0.7395\n",
            "Epoch 30: saving model to model_weights\\checkpoints.ckpt\n",
            "804/804 [==============================] - 1s 1ms/step - loss: 0.5365 - accuracy: 0.7398 - val_loss: 0.5520 - val_accuracy: 0.7268\n",
            "Epoch 31/47\n",
            "784/804 [============================>.] - ETA: 0s - loss: 0.5360 - accuracy: 0.7392\n",
            "Epoch 31: saving model to model_weights\\checkpoints.ckpt\n",
            "804/804 [==============================] - 1s 1ms/step - loss: 0.5357 - accuracy: 0.7395 - val_loss: 0.5527 - val_accuracy: 0.7279\n",
            "Epoch 32/47\n",
            "791/804 [============================>.] - ETA: 0s - loss: 0.5359 - accuracy: 0.7421\n",
            "Epoch 32: saving model to model_weights\\checkpoints.ckpt\n",
            "804/804 [==============================] - 1s 1ms/step - loss: 0.5359 - accuracy: 0.7414 - val_loss: 0.5499 - val_accuracy: 0.7273\n",
            "Epoch 33/47\n",
            "788/804 [============================>.] - ETA: 0s - loss: 0.5353 - accuracy: 0.7407\n",
            "Epoch 33: saving model to model_weights\\checkpoints.ckpt\n",
            "804/804 [==============================] - 1s 1ms/step - loss: 0.5353 - accuracy: 0.7408 - val_loss: 0.5517 - val_accuracy: 0.7261\n",
            "Epoch 34/47\n",
            "802/804 [============================>.] - ETA: 0s - loss: 0.5355 - accuracy: 0.7399\n",
            "Epoch 34: saving model to model_weights\\checkpoints.ckpt\n",
            "804/804 [==============================] - 1s 1ms/step - loss: 0.5354 - accuracy: 0.7401 - val_loss: 0.5502 - val_accuracy: 0.7268\n",
            "Epoch 35/47\n",
            "803/804 [============================>.] - ETA: 0s - loss: 0.5349 - accuracy: 0.7414\n",
            "Epoch 35: saving model to model_weights\\checkpoints.ckpt\n",
            "804/804 [==============================] - 1s 1ms/step - loss: 0.5349 - accuracy: 0.7413 - val_loss: 0.5531 - val_accuracy: 0.7268\n",
            "Epoch 36/47\n",
            "773/804 [===========================>..] - ETA: 0s - loss: 0.5342 - accuracy: 0.7416\n",
            "Epoch 36: saving model to model_weights\\checkpoints.ckpt\n",
            "804/804 [==============================] - 1s 2ms/step - loss: 0.5350 - accuracy: 0.7413 - val_loss: 0.5515 - val_accuracy: 0.7257\n",
            "Epoch 37/47\n",
            "760/804 [===========================>..] - ETA: 0s - loss: 0.5341 - accuracy: 0.7420\n",
            "Epoch 37: saving model to model_weights\\checkpoints.ckpt\n",
            "804/804 [==============================] - 1s 1ms/step - loss: 0.5345 - accuracy: 0.7418 - val_loss: 0.5530 - val_accuracy: 0.7257\n",
            "Epoch 38/47\n",
            "749/804 [==========================>...] - ETA: 0s - loss: 0.5334 - accuracy: 0.7416\n",
            "Epoch 38: saving model to model_weights\\checkpoints.ckpt\n",
            "804/804 [==============================] - 1s 1ms/step - loss: 0.5338 - accuracy: 0.7413 - val_loss: 0.5510 - val_accuracy: 0.7272\n",
            "Epoch 39/47\n",
            "766/804 [===========================>..] - ETA: 0s - loss: 0.5335 - accuracy: 0.7423\n",
            "Epoch 39: saving model to model_weights\\checkpoints.ckpt\n",
            "804/804 [==============================] - 1s 1ms/step - loss: 0.5342 - accuracy: 0.7420 - val_loss: 0.5522 - val_accuracy: 0.7262\n",
            "Epoch 40/47\n",
            "764/804 [===========================>..] - ETA: 0s - loss: 0.5334 - accuracy: 0.7426\n",
            "Epoch 40: saving model to model_weights\\checkpoints.ckpt\n",
            "804/804 [==============================] - 1s 1ms/step - loss: 0.5341 - accuracy: 0.7418 - val_loss: 0.5520 - val_accuracy: 0.7283\n",
            "Epoch 41/47\n",
            "798/804 [============================>.] - ETA: 0s - loss: 0.5335 - accuracy: 0.7434\n",
            "Epoch 41: saving model to model_weights\\checkpoints.ckpt\n",
            "804/804 [==============================] - 1s 1ms/step - loss: 0.5335 - accuracy: 0.7433 - val_loss: 0.5538 - val_accuracy: 0.7271\n",
            "Epoch 42/47\n",
            "754/804 [===========================>..] - ETA: 0s - loss: 0.5326 - accuracy: 0.7435\n",
            "Epoch 42: saving model to model_weights\\checkpoints.ckpt\n",
            "804/804 [==============================] - 1s 1ms/step - loss: 0.5335 - accuracy: 0.7427 - val_loss: 0.5507 - val_accuracy: 0.7256\n",
            "Epoch 43/47\n",
            "751/804 [===========================>..] - ETA: 0s - loss: 0.5319 - accuracy: 0.7438\n",
            "Epoch 43: saving model to model_weights\\checkpoints.ckpt\n",
            "804/804 [==============================] - 1s 1ms/step - loss: 0.5330 - accuracy: 0.7427 - val_loss: 0.5540 - val_accuracy: 0.7258\n",
            "Epoch 44/47\n",
            "775/804 [===========================>..] - ETA: 0s - loss: 0.5333 - accuracy: 0.7427\n",
            "Epoch 44: saving model to model_weights\\checkpoints.ckpt\n",
            "804/804 [==============================] - 1s 1ms/step - loss: 0.5333 - accuracy: 0.7425 - val_loss: 0.5528 - val_accuracy: 0.7282\n",
            "Epoch 45/47\n",
            "772/804 [===========================>..] - ETA: 0s - loss: 0.5335 - accuracy: 0.7427\n",
            "Epoch 45: saving model to model_weights\\checkpoints.ckpt\n",
            "804/804 [==============================] - 1s 1ms/step - loss: 0.5328 - accuracy: 0.7428 - val_loss: 0.5540 - val_accuracy: 0.7264\n",
            "Epoch 46/47\n",
            "772/804 [===========================>..] - ETA: 0s - loss: 0.5332 - accuracy: 0.7414\n",
            "Epoch 46: saving model to model_weights\\checkpoints.ckpt\n",
            "804/804 [==============================] - 1s 2ms/step - loss: 0.5328 - accuracy: 0.7417 - val_loss: 0.5554 - val_accuracy: 0.7251\n",
            "Epoch 47/47\n",
            "799/804 [============================>.] - ETA: 0s - loss: 0.5318 - accuracy: 0.7426\n",
            "Epoch 47: saving model to model_weights\\checkpoints.ckpt\n",
            "804/804 [==============================] - 1s 1ms/step - loss: 0.5318 - accuracy: 0.7427 - val_loss: 0.5536 - val_accuracy: 0.7255\n"
          ]
        }
      ],
      "source": [
        "# Train the model\n",
        "num_epochs = 47\n",
        "\n",
        "history = nn.fit(\n",
        "    X_train_scaled,\n",
        "    y_train,\n",
        "    epochs=num_epochs,\n",
        "    validation_data=(X_test_scaled, y_test),\n",
        "    verbose=1,\n",
        "    callbacks=[checkpoint_callback]  # Adding the callback here\n",
        ")"
      ]
    },
    {
      "cell_type": "code",
      "execution_count": 24,
      "metadata": {
        "colab": {
          "base_uri": "https://localhost:8080/",
          "height": 616
        },
        "id": "DHaqFhGNXvAN",
        "outputId": "b49d7a52-288a-4997-a190-585541b621a5"
      },
      "outputs": [
        {
          "name": "stdout",
          "output_type": "stream",
          "text": [
            "268/268 - 0s - loss: 0.5742 - accuracy: 0.7269 - 207ms/epoch - 773us/step\n",
            "Loss: 0.5741733312606812, Accuracy: 0.7268804907798767\n"
          ]
        }
      ],
      "source": [
        "# Evaluate the model using the test data\n",
        "model_loss, model_accuracy = nn.evaluate(X_test_scaled,y_test,verbose=2)\n",
        "print(f\"Loss: {model_loss}, Accuracy: {model_accuracy}\")\n",
        "\n"
      ]
    },
    {
      "cell_type": "code",
      "execution_count": 19,
      "metadata": {
        "colab": {
          "base_uri": "https://localhost:8080/"
        },
        "id": "CtGMrCXDnDAA",
        "outputId": "ca309acf-add9-4013-9a07-5f84cdc8e73f"
      },
      "outputs": [
        {
          "name": "stdout",
          "output_type": "stream",
          "text": [
            "Epoch 1/100\n",
            "804/804 [==============================] - 2s 2ms/step - loss: 0.5666 - accuracy: 0.7233 - val_loss: 0.5563 - val_accuracy: 0.7240\n",
            "Epoch 2/100\n",
            "804/804 [==============================] - 1s 1ms/step - loss: 0.5540 - accuracy: 0.7297 - val_loss: 0.5573 - val_accuracy: 0.7230\n",
            "Epoch 3/100\n",
            "804/804 [==============================] - 1s 1ms/step - loss: 0.5506 - accuracy: 0.7322 - val_loss: 0.5512 - val_accuracy: 0.7271\n",
            "Epoch 4/100\n",
            "804/804 [==============================] - 1s 1ms/step - loss: 0.5477 - accuracy: 0.7327 - val_loss: 0.5511 - val_accuracy: 0.7256\n",
            "Epoch 5/100\n",
            "804/804 [==============================] - 1s 1ms/step - loss: 0.5475 - accuracy: 0.7327 - val_loss: 0.5533 - val_accuracy: 0.7276\n",
            "Epoch 6/100\n",
            "804/804 [==============================] - 1s 1ms/step - loss: 0.5468 - accuracy: 0.7329 - val_loss: 0.5525 - val_accuracy: 0.7277\n",
            "Epoch 7/100\n",
            "804/804 [==============================] - 1s 1ms/step - loss: 0.5452 - accuracy: 0.7353 - val_loss: 0.5500 - val_accuracy: 0.7270\n",
            "Epoch 8/100\n",
            "804/804 [==============================] - 1s 1ms/step - loss: 0.5443 - accuracy: 0.7347 - val_loss: 0.5515 - val_accuracy: 0.7282\n",
            "Epoch 9/100\n",
            "804/804 [==============================] - 1s 1ms/step - loss: 0.5442 - accuracy: 0.7339 - val_loss: 0.5505 - val_accuracy: 0.7283\n",
            "Epoch 10/100\n",
            "804/804 [==============================] - 1s 1ms/step - loss: 0.5431 - accuracy: 0.7355 - val_loss: 0.5510 - val_accuracy: 0.7282\n",
            "Epoch 11/100\n",
            "804/804 [==============================] - 1s 1ms/step - loss: 0.5424 - accuracy: 0.7364 - val_loss: 0.5505 - val_accuracy: 0.7266\n",
            "Epoch 12/100\n",
            "804/804 [==============================] - 1s 1ms/step - loss: 0.5416 - accuracy: 0.7375 - val_loss: 0.5507 - val_accuracy: 0.7273\n",
            "Epoch 13/100\n",
            "804/804 [==============================] - 1s 1ms/step - loss: 0.5410 - accuracy: 0.7376 - val_loss: 0.5524 - val_accuracy: 0.7282\n",
            "Epoch 14/100\n",
            "804/804 [==============================] - 1s 1ms/step - loss: 0.5404 - accuracy: 0.7375 - val_loss: 0.5486 - val_accuracy: 0.7284\n",
            "Epoch 15/100\n",
            "804/804 [==============================] - 1s 1ms/step - loss: 0.5403 - accuracy: 0.7381 - val_loss: 0.5513 - val_accuracy: 0.7263\n",
            "Epoch 16/100\n",
            "804/804 [==============================] - 1s 1ms/step - loss: 0.5395 - accuracy: 0.7391 - val_loss: 0.5507 - val_accuracy: 0.7277\n",
            "Epoch 17/100\n",
            "804/804 [==============================] - 1s 1ms/step - loss: 0.5387 - accuracy: 0.7388 - val_loss: 0.5520 - val_accuracy: 0.7275\n",
            "Epoch 18/100\n",
            "804/804 [==============================] - 1s 1ms/step - loss: 0.5390 - accuracy: 0.7389 - val_loss: 0.5505 - val_accuracy: 0.7266\n",
            "Epoch 19/100\n",
            "804/804 [==============================] - 1s 1ms/step - loss: 0.5379 - accuracy: 0.7392 - val_loss: 0.5518 - val_accuracy: 0.7261\n",
            "Epoch 20/100\n",
            "804/804 [==============================] - 1s 1ms/step - loss: 0.5377 - accuracy: 0.7400 - val_loss: 0.5521 - val_accuracy: 0.7257\n",
            "Epoch 21/100\n",
            "804/804 [==============================] - 1s 1ms/step - loss: 0.5370 - accuracy: 0.7391 - val_loss: 0.5522 - val_accuracy: 0.7273\n",
            "Epoch 22/100\n",
            "804/804 [==============================] - 1s 1ms/step - loss: 0.5370 - accuracy: 0.7401 - val_loss: 0.5528 - val_accuracy: 0.7258\n",
            "Epoch 23/100\n",
            "804/804 [==============================] - 1s 1ms/step - loss: 0.5360 - accuracy: 0.7408 - val_loss: 0.5544 - val_accuracy: 0.7262\n",
            "Epoch 24/100\n",
            "804/804 [==============================] - 1s 1ms/step - loss: 0.5362 - accuracy: 0.7395 - val_loss: 0.5518 - val_accuracy: 0.7277\n",
            "Epoch 25/100\n",
            "804/804 [==============================] - 1s 1ms/step - loss: 0.5357 - accuracy: 0.7388 - val_loss: 0.5531 - val_accuracy: 0.7259\n",
            "Epoch 26/100\n",
            "804/804 [==============================] - 1s 1ms/step - loss: 0.5356 - accuracy: 0.7410 - val_loss: 0.5517 - val_accuracy: 0.7266\n",
            "Epoch 27/100\n",
            "804/804 [==============================] - 1s 1ms/step - loss: 0.5349 - accuracy: 0.7417 - val_loss: 0.5581 - val_accuracy: 0.7238\n",
            "Epoch 28/100\n",
            "804/804 [==============================] - 1s 1ms/step - loss: 0.5346 - accuracy: 0.7415 - val_loss: 0.5514 - val_accuracy: 0.7251\n",
            "Epoch 29/100\n",
            "804/804 [==============================] - 1s 1ms/step - loss: 0.5342 - accuracy: 0.7420 - val_loss: 0.5533 - val_accuracy: 0.7275\n",
            "Epoch 30/100\n",
            "804/804 [==============================] - 1s 2ms/step - loss: 0.5336 - accuracy: 0.7421 - val_loss: 0.5544 - val_accuracy: 0.7255\n",
            "Epoch 31/100\n",
            "804/804 [==============================] - 2s 2ms/step - loss: 0.5338 - accuracy: 0.7428 - val_loss: 0.5540 - val_accuracy: 0.7268\n",
            "Epoch 32/100\n",
            "804/804 [==============================] - 2s 2ms/step - loss: 0.5335 - accuracy: 0.7417 - val_loss: 0.5564 - val_accuracy: 0.7264\n",
            "Epoch 33/100\n",
            "804/804 [==============================] - 2s 2ms/step - loss: 0.5326 - accuracy: 0.7421 - val_loss: 0.5552 - val_accuracy: 0.7263\n",
            "Epoch 34/100\n",
            "804/804 [==============================] - 2s 2ms/step - loss: 0.5328 - accuracy: 0.7428 - val_loss: 0.5546 - val_accuracy: 0.7282\n",
            "Epoch 35/100\n",
            "804/804 [==============================] - 2s 2ms/step - loss: 0.5321 - accuracy: 0.7425 - val_loss: 0.5558 - val_accuracy: 0.7266\n",
            "Epoch 36/100\n",
            "804/804 [==============================] - 2s 2ms/step - loss: 0.5320 - accuracy: 0.7432 - val_loss: 0.5564 - val_accuracy: 0.7244\n",
            "Epoch 37/100\n",
            "804/804 [==============================] - 2s 2ms/step - loss: 0.5319 - accuracy: 0.7435 - val_loss: 0.5542 - val_accuracy: 0.7270\n",
            "Epoch 38/100\n",
            "804/804 [==============================] - 2s 2ms/step - loss: 0.5308 - accuracy: 0.7431 - val_loss: 0.5540 - val_accuracy: 0.7265\n",
            "Epoch 39/100\n",
            "804/804 [==============================] - 2s 2ms/step - loss: 0.5306 - accuracy: 0.7425 - val_loss: 0.5574 - val_accuracy: 0.7248\n",
            "Epoch 40/100\n",
            "804/804 [==============================] - 2s 2ms/step - loss: 0.5307 - accuracy: 0.7435 - val_loss: 0.5572 - val_accuracy: 0.7270\n",
            "Epoch 41/100\n",
            "804/804 [==============================] - 2s 2ms/step - loss: 0.5307 - accuracy: 0.7428 - val_loss: 0.5596 - val_accuracy: 0.7254\n",
            "Epoch 42/100\n",
            "804/804 [==============================] - 2s 2ms/step - loss: 0.5302 - accuracy: 0.7439 - val_loss: 0.5616 - val_accuracy: 0.7258\n",
            "Epoch 43/100\n",
            "804/804 [==============================] - 2s 2ms/step - loss: 0.5298 - accuracy: 0.7446 - val_loss: 0.5603 - val_accuracy: 0.7250\n",
            "Epoch 44/100\n",
            "804/804 [==============================] - 2s 2ms/step - loss: 0.5312 - accuracy: 0.7432 - val_loss: 0.5621 - val_accuracy: 0.7249\n",
            "Epoch 45/100\n",
            "804/804 [==============================] - 2s 2ms/step - loss: 0.5289 - accuracy: 0.7447 - val_loss: 0.5601 - val_accuracy: 0.7248\n",
            "Epoch 46/100\n",
            "804/804 [==============================] - 2s 2ms/step - loss: 0.5289 - accuracy: 0.7440 - val_loss: 0.5592 - val_accuracy: 0.7241\n",
            "Epoch 47/100\n",
            "804/804 [==============================] - 2s 2ms/step - loss: 0.5289 - accuracy: 0.7439 - val_loss: 0.5632 - val_accuracy: 0.7248\n",
            "Epoch 48/100\n",
            "804/804 [==============================] - 2s 2ms/step - loss: 0.5284 - accuracy: 0.7430 - val_loss: 0.5613 - val_accuracy: 0.7245\n",
            "Epoch 49/100\n",
            "804/804 [==============================] - 2s 2ms/step - loss: 0.5281 - accuracy: 0.7437 - val_loss: 0.5593 - val_accuracy: 0.7262\n",
            "Epoch 50/100\n",
            "804/804 [==============================] - 2s 2ms/step - loss: 0.5279 - accuracy: 0.7448 - val_loss: 0.5607 - val_accuracy: 0.7257\n",
            "Epoch 51/100\n",
            "804/804 [==============================] - 2s 2ms/step - loss: 0.5279 - accuracy: 0.7441 - val_loss: 0.5619 - val_accuracy: 0.7241\n",
            "Epoch 52/100\n",
            "804/804 [==============================] - 2s 2ms/step - loss: 0.5280 - accuracy: 0.7436 - val_loss: 0.5626 - val_accuracy: 0.7249\n",
            "Epoch 53/100\n",
            "804/804 [==============================] - 2s 2ms/step - loss: 0.5277 - accuracy: 0.7443 - val_loss: 0.5628 - val_accuracy: 0.7247\n",
            "Epoch 54/100\n",
            "804/804 [==============================] - 2s 2ms/step - loss: 0.5272 - accuracy: 0.7447 - val_loss: 0.5627 - val_accuracy: 0.7247\n",
            "Epoch 55/100\n",
            "804/804 [==============================] - 2s 2ms/step - loss: 0.5275 - accuracy: 0.7449 - val_loss: 0.5638 - val_accuracy: 0.7261\n",
            "Epoch 56/100\n",
            "804/804 [==============================] - 2s 2ms/step - loss: 0.5266 - accuracy: 0.7448 - val_loss: 0.5667 - val_accuracy: 0.7243\n",
            "Epoch 57/100\n",
            "804/804 [==============================] - 2s 2ms/step - loss: 0.5266 - accuracy: 0.7446 - val_loss: 0.5660 - val_accuracy: 0.7261\n",
            "Epoch 58/100\n",
            "804/804 [==============================] - 2s 2ms/step - loss: 0.5268 - accuracy: 0.7443 - val_loss: 0.5620 - val_accuracy: 0.7263\n",
            "Epoch 59/100\n",
            "804/804 [==============================] - 2s 2ms/step - loss: 0.5262 - accuracy: 0.7443 - val_loss: 0.5652 - val_accuracy: 0.7261\n",
            "Epoch 60/100\n",
            "804/804 [==============================] - 2s 2ms/step - loss: 0.5265 - accuracy: 0.7448 - val_loss: 0.5627 - val_accuracy: 0.7261\n",
            "Epoch 61/100\n",
            "804/804 [==============================] - 2s 2ms/step - loss: 0.5265 - accuracy: 0.7451 - val_loss: 0.5655 - val_accuracy: 0.7241\n",
            "Epoch 62/100\n",
            "804/804 [==============================] - 2s 2ms/step - loss: 0.5256 - accuracy: 0.7453 - val_loss: 0.5676 - val_accuracy: 0.7250\n",
            "Epoch 63/100\n",
            "804/804 [==============================] - 2s 2ms/step - loss: 0.5263 - accuracy: 0.7458 - val_loss: 0.5625 - val_accuracy: 0.7268\n",
            "Epoch 64/100\n",
            "804/804 [==============================] - 2s 2ms/step - loss: 0.5258 - accuracy: 0.7453 - val_loss: 0.5697 - val_accuracy: 0.7241\n",
            "Epoch 65/100\n",
            "804/804 [==============================] - 2s 2ms/step - loss: 0.5254 - accuracy: 0.7450 - val_loss: 0.5681 - val_accuracy: 0.7247\n",
            "Epoch 66/100\n",
            "804/804 [==============================] - 2s 2ms/step - loss: 0.5252 - accuracy: 0.7453 - val_loss: 0.5732 - val_accuracy: 0.7254\n",
            "Epoch 67/100\n",
            "804/804 [==============================] - 2s 2ms/step - loss: 0.5250 - accuracy: 0.7460 - val_loss: 0.5686 - val_accuracy: 0.7243\n",
            "Epoch 68/100\n",
            "804/804 [==============================] - 2s 2ms/step - loss: 0.5244 - accuracy: 0.7456 - val_loss: 0.5677 - val_accuracy: 0.7257\n",
            "Epoch 69/100\n",
            "804/804 [==============================] - 1s 2ms/step - loss: 0.5249 - accuracy: 0.7453 - val_loss: 0.5713 - val_accuracy: 0.7243\n",
            "Epoch 70/100\n",
            "804/804 [==============================] - 2s 2ms/step - loss: 0.5243 - accuracy: 0.7449 - val_loss: 0.5697 - val_accuracy: 0.7250\n",
            "Epoch 71/100\n",
            "804/804 [==============================] - 2s 2ms/step - loss: 0.5246 - accuracy: 0.7460 - val_loss: 0.5658 - val_accuracy: 0.7252\n",
            "Epoch 72/100\n",
            "804/804 [==============================] - 2s 2ms/step - loss: 0.5239 - accuracy: 0.7452 - val_loss: 0.5686 - val_accuracy: 0.7235\n",
            "Epoch 73/100\n",
            "804/804 [==============================] - 2s 2ms/step - loss: 0.5238 - accuracy: 0.7455 - val_loss: 0.5729 - val_accuracy: 0.7240\n",
            "Epoch 74/100\n",
            "804/804 [==============================] - 2s 2ms/step - loss: 0.5243 - accuracy: 0.7452 - val_loss: 0.5703 - val_accuracy: 0.7229\n",
            "Epoch 75/100\n",
            "804/804 [==============================] - 2s 2ms/step - loss: 0.5239 - accuracy: 0.7462 - val_loss: 0.5680 - val_accuracy: 0.7255\n",
            "Epoch 76/100\n",
            "804/804 [==============================] - 2s 2ms/step - loss: 0.5247 - accuracy: 0.7460 - val_loss: 0.5780 - val_accuracy: 0.7237\n",
            "Epoch 77/100\n",
            "804/804 [==============================] - 2s 2ms/step - loss: 0.5236 - accuracy: 0.7469 - val_loss: 0.5702 - val_accuracy: 0.7241\n",
            "Epoch 78/100\n",
            "804/804 [==============================] - 2s 2ms/step - loss: 0.5239 - accuracy: 0.7463 - val_loss: 0.5702 - val_accuracy: 0.7256\n",
            "Epoch 79/100\n",
            "804/804 [==============================] - 2s 2ms/step - loss: 0.5228 - accuracy: 0.7456 - val_loss: 0.5761 - val_accuracy: 0.7231\n",
            "Epoch 80/100\n",
            "804/804 [==============================] - 2s 2ms/step - loss: 0.5233 - accuracy: 0.7462 - val_loss: 0.5719 - val_accuracy: 0.7259\n",
            "Epoch 81/100\n",
            "804/804 [==============================] - 2s 2ms/step - loss: 0.5226 - accuracy: 0.7469 - val_loss: 0.5761 - val_accuracy: 0.7229\n",
            "Epoch 82/100\n",
            "804/804 [==============================] - 2s 2ms/step - loss: 0.5228 - accuracy: 0.7467 - val_loss: 0.5739 - val_accuracy: 0.7233\n",
            "Epoch 83/100\n",
            "804/804 [==============================] - 2s 2ms/step - loss: 0.5224 - accuracy: 0.7468 - val_loss: 0.5792 - val_accuracy: 0.7234\n",
            "Epoch 84/100\n",
            "804/804 [==============================] - 2s 2ms/step - loss: 0.5223 - accuracy: 0.7467 - val_loss: 0.5752 - val_accuracy: 0.7245\n",
            "Epoch 85/100\n",
            "804/804 [==============================] - 2s 2ms/step - loss: 0.5230 - accuracy: 0.7471 - val_loss: 0.5819 - val_accuracy: 0.7245\n",
            "Epoch 86/100\n",
            "804/804 [==============================] - 2s 2ms/step - loss: 0.5313 - accuracy: 0.7464 - val_loss: 0.5811 - val_accuracy: 0.7243\n",
            "Epoch 87/100\n",
            "804/804 [==============================] - 2s 2ms/step - loss: 0.5220 - accuracy: 0.7470 - val_loss: 0.5792 - val_accuracy: 0.7226\n",
            "Epoch 88/100\n",
            "804/804 [==============================] - 1s 2ms/step - loss: 0.5207 - accuracy: 0.7484 - val_loss: 0.5766 - val_accuracy: 0.7242\n",
            "Epoch 89/100\n",
            "804/804 [==============================] - 2s 2ms/step - loss: 0.5206 - accuracy: 0.7477 - val_loss: 0.5839 - val_accuracy: 0.7236\n",
            "Epoch 90/100\n",
            "804/804 [==============================] - 2s 2ms/step - loss: 0.5211 - accuracy: 0.7472 - val_loss: 0.5839 - val_accuracy: 0.7245\n",
            "Epoch 91/100\n",
            "804/804 [==============================] - 2s 2ms/step - loss: 0.5207 - accuracy: 0.7473 - val_loss: 0.5791 - val_accuracy: 0.7233\n",
            "Epoch 92/100\n",
            "804/804 [==============================] - 2s 2ms/step - loss: 0.5207 - accuracy: 0.7483 - val_loss: 0.5854 - val_accuracy: 0.7230\n",
            "Epoch 93/100\n",
            "804/804 [==============================] - 2s 2ms/step - loss: 0.5214 - accuracy: 0.7486 - val_loss: 0.5803 - val_accuracy: 0.7227\n",
            "Epoch 94/100\n",
            "804/804 [==============================] - 2s 2ms/step - loss: 0.5203 - accuracy: 0.7484 - val_loss: 0.5874 - val_accuracy: 0.7230\n",
            "Epoch 95/100\n",
            "804/804 [==============================] - 2s 2ms/step - loss: 0.5219 - accuracy: 0.7469 - val_loss: 0.5821 - val_accuracy: 0.7243\n",
            "Epoch 96/100\n",
            "804/804 [==============================] - 2s 2ms/step - loss: 0.5204 - accuracy: 0.7476 - val_loss: 0.5820 - val_accuracy: 0.7221\n",
            "Epoch 97/100\n",
            "804/804 [==============================] - 2s 2ms/step - loss: 0.5203 - accuracy: 0.7483 - val_loss: 0.5842 - val_accuracy: 0.7201\n",
            "Epoch 98/100\n",
            "804/804 [==============================] - 2s 2ms/step - loss: 0.5205 - accuracy: 0.7466 - val_loss: 0.5898 - val_accuracy: 0.7233\n",
            "Epoch 99/100\n",
            "804/804 [==============================] - 2s 2ms/step - loss: 0.5208 - accuracy: 0.7473 - val_loss: 0.5832 - val_accuracy: 0.7236\n",
            "Epoch 100/100\n",
            "804/804 [==============================] - 2s 2ms/step - loss: 0.5202 - accuracy: 0.7474 - val_loss: 0.5903 - val_accuracy: 0.7228\n"
          ]
        }
      ],
      "source": [
        "# Define the model - deep neural net, i.e., the number of input features and hidden nodes for each layer.\n",
        "number_input_features = len(X_train_scaled[0])\n",
        "\n",
        "# Neural Network Architecture Adjustment\n",
        "nn = tf.keras.models.Sequential()\n",
        "\n",
        "# First hidden layer (Increased neurons and changed activation function)\n",
        "nn.add(tf.keras.layers.Dense(units=number_input_features*3, activation=\"swish\", input_dim=number_input_features))\n",
        "\n",
        "# Second hidden layer (Increased neurons)\n",
        "nn.add(tf.keras.layers.Dense(units=number_input_features*2, activation=\"relu\"))\n",
        "\n",
        "# Additional hidden layer\n",
        "nn.add(tf.keras.layers.Dense(units=number_input_features, activation=\"relu\"))\n",
        "\n",
        "# Output layer\n",
        "nn.add(tf.keras.layers.Dense(units=1, activation=\"sigmoid\"))\n",
        "\n",
        "# Compile the model with custom optimizer with adjusted learning rate\n",
        "optimizer = tf.keras.optimizers.Adam(learning_rate=0.001)\n",
        "nn.compile(loss='binary_crossentropy', optimizer=optimizer, metrics=['accuracy'])\n",
        "\n",
        "# Adjusting Training (e.g., increased epochs and added batch size)\n",
        "num_epochs = 100\n",
        "history = nn.fit(\n",
        "    X_train_scaled,\n",
        "    y_train,\n",
        "    epochs=num_epochs,\n",
        "    batch_size=32,\n",
        "    validation_data=(X_test_scaled, y_test),\n",
        "    verbose=1\n",
        ")"
      ]
    },
    {
      "cell_type": "code",
      "execution_count": 20,
      "metadata": {
        "colab": {
          "base_uri": "https://localhost:8080/"
        },
        "id": "409a4x_UnLyL",
        "outputId": "01f3287e-8285-4551-b8e3-a45536a56f43"
      },
      "outputs": [
        {
          "name": "stdout",
          "output_type": "stream",
          "text": [
            "268/268 - 0s - loss: 0.5903 - accuracy: 0.7228 - 244ms/epoch - 910us/step\n",
            "Loss: 0.5902543067932129, Accuracy: 0.7227988243103027\n"
          ]
        }
      ],
      "source": [
        "# Evaluate the model using the test data\n",
        "model_loss, model_accuracy = nn.evaluate(X_test_scaled,y_test,verbose=2)\n",
        "print(f\"Loss: {model_loss}, Accuracy: {model_accuracy}\")"
      ]
    },
    {
      "cell_type": "code",
      "execution_count": 21,
      "metadata": {},
      "outputs": [
        {
          "name": "stdout",
          "output_type": "stream",
          "text": [
            "Epoch 1/100\n",
            "804/804 [==============================] - 2s 2ms/step - loss: 0.8041 - accuracy: 0.7166 - val_loss: 0.5926 - val_accuracy: 0.7200\n",
            "Epoch 2/100\n",
            "804/804 [==============================] - 1s 2ms/step - loss: 0.5879 - accuracy: 0.7245 - val_loss: 0.5862 - val_accuracy: 0.7208\n",
            "Epoch 3/100\n",
            "804/804 [==============================] - 1s 2ms/step - loss: 0.5851 - accuracy: 0.7257 - val_loss: 0.5851 - val_accuracy: 0.7216\n",
            "Epoch 4/100\n",
            "804/804 [==============================] - 1s 2ms/step - loss: 0.5821 - accuracy: 0.7262 - val_loss: 0.5824 - val_accuracy: 0.7242\n",
            "Epoch 5/100\n",
            "804/804 [==============================] - 1s 2ms/step - loss: 0.5838 - accuracy: 0.7262 - val_loss: 0.5859 - val_accuracy: 0.7159\n",
            "Epoch 6/100\n",
            "804/804 [==============================] - 1s 2ms/step - loss: 0.5824 - accuracy: 0.7264 - val_loss: 0.5817 - val_accuracy: 0.7206\n",
            "Epoch 7/100\n",
            "804/804 [==============================] - 1s 2ms/step - loss: 0.5816 - accuracy: 0.7268 - val_loss: 0.5794 - val_accuracy: 0.7231\n",
            "Epoch 8/100\n",
            "804/804 [==============================] - 1s 2ms/step - loss: 0.5817 - accuracy: 0.7266 - val_loss: 0.5858 - val_accuracy: 0.7157\n",
            "Epoch 9/100\n",
            "804/804 [==============================] - 1s 2ms/step - loss: 0.5804 - accuracy: 0.7257 - val_loss: 0.5842 - val_accuracy: 0.7224\n",
            "Epoch 10/100\n",
            "804/804 [==============================] - 1s 2ms/step - loss: 0.5814 - accuracy: 0.7253 - val_loss: 0.5825 - val_accuracy: 0.7202\n",
            "Epoch 11/100\n",
            "804/804 [==============================] - 1s 2ms/step - loss: 0.5802 - accuracy: 0.7263 - val_loss: 0.5806 - val_accuracy: 0.7237\n",
            "Epoch 12/100\n",
            "804/804 [==============================] - 1s 2ms/step - loss: 0.5797 - accuracy: 0.7255 - val_loss: 0.5783 - val_accuracy: 0.7240\n",
            "Epoch 13/100\n",
            "804/804 [==============================] - 1s 2ms/step - loss: 0.5798 - accuracy: 0.7267 - val_loss: 0.5765 - val_accuracy: 0.7247\n",
            "Epoch 14/100\n",
            "804/804 [==============================] - 1s 2ms/step - loss: 0.5793 - accuracy: 0.7262 - val_loss: 0.5780 - val_accuracy: 0.7242\n",
            "Epoch 15/100\n",
            "804/804 [==============================] - 1s 2ms/step - loss: 0.5794 - accuracy: 0.7270 - val_loss: 0.5850 - val_accuracy: 0.7214\n",
            "Epoch 16/100\n",
            "804/804 [==============================] - 1s 2ms/step - loss: 0.5814 - accuracy: 0.7255 - val_loss: 0.5768 - val_accuracy: 0.7241\n",
            "Epoch 17/100\n",
            "804/804 [==============================] - 1s 2ms/step - loss: 0.5792 - accuracy: 0.7270 - val_loss: 0.5784 - val_accuracy: 0.7251\n",
            "Epoch 18/100\n",
            "804/804 [==============================] - 1s 2ms/step - loss: 0.5793 - accuracy: 0.7269 - val_loss: 0.5806 - val_accuracy: 0.7234\n",
            "Epoch 19/100\n",
            "804/804 [==============================] - 1s 2ms/step - loss: 0.5795 - accuracy: 0.7276 - val_loss: 0.5759 - val_accuracy: 0.7244\n",
            "Epoch 20/100\n",
            "804/804 [==============================] - 1s 2ms/step - loss: 0.5798 - accuracy: 0.7265 - val_loss: 0.5839 - val_accuracy: 0.7236\n",
            "Epoch 21/100\n",
            "804/804 [==============================] - 1s 2ms/step - loss: 0.5792 - accuracy: 0.7267 - val_loss: 0.5777 - val_accuracy: 0.7230\n",
            "Epoch 22/100\n",
            "804/804 [==============================] - 1s 2ms/step - loss: 0.5781 - accuracy: 0.7268 - val_loss: 0.5803 - val_accuracy: 0.7224\n",
            "Epoch 23/100\n",
            "804/804 [==============================] - 1s 2ms/step - loss: 0.5783 - accuracy: 0.7269 - val_loss: 0.5817 - val_accuracy: 0.7265\n",
            "Epoch 24/100\n",
            "804/804 [==============================] - 1s 2ms/step - loss: 0.5803 - accuracy: 0.7248 - val_loss: 0.5773 - val_accuracy: 0.7210\n",
            "Epoch 25/100\n",
            "804/804 [==============================] - 1s 2ms/step - loss: 0.5787 - accuracy: 0.7272 - val_loss: 0.5748 - val_accuracy: 0.7259\n",
            "Epoch 26/100\n",
            "804/804 [==============================] - 1s 2ms/step - loss: 0.5772 - accuracy: 0.7266 - val_loss: 0.5805 - val_accuracy: 0.7178\n",
            "Epoch 27/100\n",
            "804/804 [==============================] - 1s 2ms/step - loss: 0.5787 - accuracy: 0.7269 - val_loss: 0.5789 - val_accuracy: 0.7248\n",
            "Epoch 28/100\n",
            "804/804 [==============================] - 1s 2ms/step - loss: 0.5794 - accuracy: 0.7268 - val_loss: 0.5776 - val_accuracy: 0.7219\n",
            "Epoch 29/100\n",
            "804/804 [==============================] - 1s 2ms/step - loss: 0.5780 - accuracy: 0.7264 - val_loss: 0.5759 - val_accuracy: 0.7228\n",
            "Epoch 30/100\n",
            "804/804 [==============================] - 1s 2ms/step - loss: 0.5782 - accuracy: 0.7254 - val_loss: 0.5777 - val_accuracy: 0.7228\n",
            "Epoch 31/100\n",
            "804/804 [==============================] - 1s 2ms/step - loss: 0.5788 - accuracy: 0.7275 - val_loss: 0.5746 - val_accuracy: 0.7216\n",
            "Epoch 32/100\n",
            "804/804 [==============================] - 1s 2ms/step - loss: 0.5786 - accuracy: 0.7274 - val_loss: 0.5792 - val_accuracy: 0.7180\n",
            "Epoch 33/100\n",
            "804/804 [==============================] - 1s 2ms/step - loss: 0.5789 - accuracy: 0.7271 - val_loss: 0.5800 - val_accuracy: 0.7231\n",
            "Epoch 34/100\n",
            "804/804 [==============================] - 1s 2ms/step - loss: 0.5783 - accuracy: 0.7259 - val_loss: 0.5805 - val_accuracy: 0.7238\n",
            "Epoch 35/100\n",
            "804/804 [==============================] - 1s 2ms/step - loss: 0.5792 - accuracy: 0.7263 - val_loss: 0.5811 - val_accuracy: 0.7206\n",
            "Epoch 36/100\n",
            "804/804 [==============================] - 1s 2ms/step - loss: 0.5773 - accuracy: 0.7262 - val_loss: 0.5768 - val_accuracy: 0.7275\n",
            "Epoch 37/100\n",
            "804/804 [==============================] - 1s 2ms/step - loss: 0.5775 - accuracy: 0.7269 - val_loss: 0.5777 - val_accuracy: 0.7255\n",
            "Epoch 38/100\n",
            "804/804 [==============================] - 1s 2ms/step - loss: 0.5790 - accuracy: 0.7265 - val_loss: 0.5822 - val_accuracy: 0.7221\n",
            "Epoch 39/100\n",
            "804/804 [==============================] - 1s 2ms/step - loss: 0.5790 - accuracy: 0.7254 - val_loss: 0.5775 - val_accuracy: 0.7258\n",
            "Epoch 40/100\n",
            "804/804 [==============================] - 1s 2ms/step - loss: 0.5800 - accuracy: 0.7291 - val_loss: 0.5742 - val_accuracy: 0.7269\n",
            "Epoch 41/100\n",
            "804/804 [==============================] - 1s 2ms/step - loss: 0.5782 - accuracy: 0.7271 - val_loss: 0.5767 - val_accuracy: 0.7228\n",
            "Epoch 42/100\n",
            "804/804 [==============================] - 1s 2ms/step - loss: 0.5800 - accuracy: 0.7260 - val_loss: 0.5765 - val_accuracy: 0.7235\n",
            "Epoch 43/100\n",
            "804/804 [==============================] - 1s 2ms/step - loss: 0.5764 - accuracy: 0.7271 - val_loss: 0.5872 - val_accuracy: 0.7224\n",
            "Epoch 44/100\n",
            "804/804 [==============================] - 1s 2ms/step - loss: 0.5798 - accuracy: 0.7265 - val_loss: 0.5749 - val_accuracy: 0.7237\n",
            "Epoch 45/100\n",
            "804/804 [==============================] - 1s 2ms/step - loss: 0.5780 - accuracy: 0.7257 - val_loss: 0.5781 - val_accuracy: 0.7231\n",
            "Epoch 46/100\n",
            "804/804 [==============================] - 1s 2ms/step - loss: 0.5787 - accuracy: 0.7274 - val_loss: 0.5753 - val_accuracy: 0.7226\n",
            "Epoch 47/100\n",
            "804/804 [==============================] - 1s 2ms/step - loss: 0.5773 - accuracy: 0.7282 - val_loss: 0.5760 - val_accuracy: 0.7243\n",
            "Epoch 48/100\n",
            "804/804 [==============================] - 1s 2ms/step - loss: 0.5786 - accuracy: 0.7272 - val_loss: 0.5757 - val_accuracy: 0.7215\n",
            "Epoch 49/100\n",
            "804/804 [==============================] - 1s 2ms/step - loss: 0.5800 - accuracy: 0.7248 - val_loss: 0.5875 - val_accuracy: 0.7194\n",
            "Epoch 50/100\n",
            "804/804 [==============================] - 1s 2ms/step - loss: 0.5767 - accuracy: 0.7275 - val_loss: 0.5747 - val_accuracy: 0.7238\n"
          ]
        }
      ],
      "source": [
        "from tensorflow.keras.regularizers import l2\n",
        "from tensorflow.keras.callbacks import EarlyStopping\n",
        "from tensorflow.keras.optimizers import Adam\n",
        "\n",
        "nn = tf.keras.models.Sequential()\n",
        "\n",
        "# First hidden layer with L2 regularization\n",
        "nn.add(tf.keras.layers.Dense(units=number_input_features*3, activation=\"swish\", kernel_regularizer=l2(0.01), input_dim=number_input_features))\n",
        "nn.add(tf.keras.layers.Dropout(0.2)) # 20% dropout\n",
        "\n",
        "# Second hidden layer with L2 regularization\n",
        "nn.add(tf.keras.layers.Dense(units=number_input_features*2, activation=\"relu\", kernel_regularizer=l2(0.01)))\n",
        "nn.add(tf.keras.layers.Dropout(0.2)) # 20% dropout\n",
        "\n",
        "# Additional hidden layer\n",
        "nn.add(tf.keras.layers.Dense(units=number_input_features, activation=\"relu\"))\n",
        "\n",
        "# Output layer\n",
        "nn.add(tf.keras.layers.Dense(units=1, activation=\"sigmoid\"))\n",
        "\n",
        "early_stopping = EarlyStopping(monitor='val_loss', patience=10, restore_best_weights=True)\n",
        "\n",
        "# Define the optimizer\n",
        "optimizer = Adam(learning_rate=0.001)\n",
        "\n",
        "# Compile the model\n",
        "nn.compile(loss='binary_crossentropy', optimizer=optimizer, metrics=['accuracy'])\n",
        "\n",
        "# Train the model\n",
        "history = nn.fit(\n",
        "    X_train_scaled,\n",
        "    y_train,\n",
        "    epochs=num_epochs,\n",
        "    batch_size=32,\n",
        "    validation_data=(X_test_scaled, y_test),\n",
        "    verbose=1,\n",
        "    callbacks=[early_stopping]  # Adding the early stopping callback here\n",
        ")\n"
      ]
    },
    {
      "cell_type": "code",
      "execution_count": 22,
      "metadata": {},
      "outputs": [
        {
          "name": "stdout",
          "output_type": "stream",
          "text": [
            "268/268 - 0s - loss: 0.5742 - accuracy: 0.7269 - 205ms/epoch - 765us/step\n",
            "Loss: 0.5741733312606812, Accuracy: 0.7268804907798767\n"
          ]
        }
      ],
      "source": [
        "# Evaluate the model using the test data\n",
        "model_loss, model_accuracy = nn.evaluate(X_test_scaled,y_test,verbose=2)\n",
        "print(f\"Loss: {model_loss}, Accuracy: {model_accuracy}\")"
      ]
    },
    {
      "cell_type": "code",
      "execution_count": 23,
      "metadata": {
        "colab": {
          "base_uri": "https://localhost:8080/"
        },
        "id": "M_GW94f2XvAN",
        "outputId": "5ec6e1b5-fb09-4869-aa81-51ce13650e5a"
      },
      "outputs": [
        {
          "name": "stdout",
          "output_type": "stream",
          "text": [
            "Model saved to trained_model.h5\n"
          ]
        },
        {
          "name": "stderr",
          "output_type": "stream",
          "text": [
            "c:\\Users\\NCout\\anaconda3\\envs\\dev\\lib\\site-packages\\keras\\src\\engine\\training.py:3000: UserWarning: You are saving your model as an HDF5 file via `model.save()`. This file format is considered legacy. We recommend using instead the native Keras format, e.g. `model.save('my_model.keras')`.\n",
            "  saving_api.save_model(\n"
          ]
        }
      ],
      "source": [
        "# Export our model to HDF5 file\n",
        "nn.save(\"trained_model.h5\")\n",
        "\n",
        "print(\"Model saved to trained_model.h5\")"
      ]
    }
  ],
  "metadata": {
    "colab": {
      "provenance": []
    },
    "kernelspec": {
      "display_name": "Python 3",
      "language": "python",
      "name": "python3"
    },
    "language_info": {
      "codemirror_mode": {
        "name": "ipython",
        "version": 3
      },
      "file_extension": ".py",
      "mimetype": "text/x-python",
      "name": "python",
      "nbconvert_exporter": "python",
      "pygments_lexer": "ipython3",
      "version": "3.10.12"
    },
    "vscode": {
      "interpreter": {
        "hash": "31f2aee4e71d21fbe5cf8b01ff0e069b9275f58929596ceb00d14d90e3e16cd6"
      }
    }
  },
  "nbformat": 4,
  "nbformat_minor": 0
}
