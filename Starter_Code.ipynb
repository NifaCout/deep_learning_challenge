{
  "cells": [
    {
      "cell_type": "markdown",
      "metadata": {
        "id": "y05mABnrXvAF"
      },
      "source": [
        "## Preprocessing"
      ]
    },
    {
      "cell_type": "code",
      "execution_count": 1,
      "metadata": {
        "colab": {
          "base_uri": "https://localhost:8080/",
          "height": 452
        },
        "id": "zYb3pVmmXvAI",
        "outputId": "93a57f34-dcbb-4248-e627-bda57488d6a2"
      },
      "outputs": [
        {
          "data": {
            "text/html": [
              "<div>\n",
              "<style scoped>\n",
              "    .dataframe tbody tr th:only-of-type {\n",
              "        vertical-align: middle;\n",
              "    }\n",
              "\n",
              "    .dataframe tbody tr th {\n",
              "        vertical-align: top;\n",
              "    }\n",
              "\n",
              "    .dataframe thead th {\n",
              "        text-align: right;\n",
              "    }\n",
              "</style>\n",
              "<table border=\"1\" class=\"dataframe\">\n",
              "  <thead>\n",
              "    <tr style=\"text-align: right;\">\n",
              "      <th></th>\n",
              "      <th>EIN</th>\n",
              "      <th>NAME</th>\n",
              "      <th>APPLICATION_TYPE</th>\n",
              "      <th>AFFILIATION</th>\n",
              "      <th>CLASSIFICATION</th>\n",
              "      <th>USE_CASE</th>\n",
              "      <th>ORGANIZATION</th>\n",
              "      <th>STATUS</th>\n",
              "      <th>INCOME_AMT</th>\n",
              "      <th>SPECIAL_CONSIDERATIONS</th>\n",
              "      <th>ASK_AMT</th>\n",
              "      <th>IS_SUCCESSFUL</th>\n",
              "    </tr>\n",
              "  </thead>\n",
              "  <tbody>\n",
              "    <tr>\n",
              "      <th>0</th>\n",
              "      <td>10520599</td>\n",
              "      <td>BLUE KNIGHTS MOTORCYCLE CLUB</td>\n",
              "      <td>T10</td>\n",
              "      <td>Independent</td>\n",
              "      <td>C1000</td>\n",
              "      <td>ProductDev</td>\n",
              "      <td>Association</td>\n",
              "      <td>1</td>\n",
              "      <td>0</td>\n",
              "      <td>N</td>\n",
              "      <td>5000</td>\n",
              "      <td>1</td>\n",
              "    </tr>\n",
              "    <tr>\n",
              "      <th>1</th>\n",
              "      <td>10531628</td>\n",
              "      <td>AMERICAN CHESAPEAKE CLUB CHARITABLE TR</td>\n",
              "      <td>T3</td>\n",
              "      <td>Independent</td>\n",
              "      <td>C2000</td>\n",
              "      <td>Preservation</td>\n",
              "      <td>Co-operative</td>\n",
              "      <td>1</td>\n",
              "      <td>1-9999</td>\n",
              "      <td>N</td>\n",
              "      <td>108590</td>\n",
              "      <td>1</td>\n",
              "    </tr>\n",
              "    <tr>\n",
              "      <th>2</th>\n",
              "      <td>10547893</td>\n",
              "      <td>ST CLOUD PROFESSIONAL FIREFIGHTERS</td>\n",
              "      <td>T5</td>\n",
              "      <td>CompanySponsored</td>\n",
              "      <td>C3000</td>\n",
              "      <td>ProductDev</td>\n",
              "      <td>Association</td>\n",
              "      <td>1</td>\n",
              "      <td>0</td>\n",
              "      <td>N</td>\n",
              "      <td>5000</td>\n",
              "      <td>0</td>\n",
              "    </tr>\n",
              "    <tr>\n",
              "      <th>3</th>\n",
              "      <td>10553066</td>\n",
              "      <td>SOUTHSIDE ATHLETIC ASSOCIATION</td>\n",
              "      <td>T3</td>\n",
              "      <td>CompanySponsored</td>\n",
              "      <td>C2000</td>\n",
              "      <td>Preservation</td>\n",
              "      <td>Trust</td>\n",
              "      <td>1</td>\n",
              "      <td>10000-24999</td>\n",
              "      <td>N</td>\n",
              "      <td>6692</td>\n",
              "      <td>1</td>\n",
              "    </tr>\n",
              "    <tr>\n",
              "      <th>4</th>\n",
              "      <td>10556103</td>\n",
              "      <td>GENETIC RESEARCH INSTITUTE OF THE DESERT</td>\n",
              "      <td>T3</td>\n",
              "      <td>Independent</td>\n",
              "      <td>C1000</td>\n",
              "      <td>Heathcare</td>\n",
              "      <td>Trust</td>\n",
              "      <td>1</td>\n",
              "      <td>100000-499999</td>\n",
              "      <td>N</td>\n",
              "      <td>142590</td>\n",
              "      <td>1</td>\n",
              "    </tr>\n",
              "  </tbody>\n",
              "</table>\n",
              "</div>"
            ],
            "text/plain": [
              "        EIN                                      NAME APPLICATION_TYPE  \\\n",
              "0  10520599              BLUE KNIGHTS MOTORCYCLE CLUB              T10   \n",
              "1  10531628    AMERICAN CHESAPEAKE CLUB CHARITABLE TR               T3   \n",
              "2  10547893        ST CLOUD PROFESSIONAL FIREFIGHTERS               T5   \n",
              "3  10553066            SOUTHSIDE ATHLETIC ASSOCIATION               T3   \n",
              "4  10556103  GENETIC RESEARCH INSTITUTE OF THE DESERT               T3   \n",
              "\n",
              "        AFFILIATION CLASSIFICATION      USE_CASE  ORGANIZATION  STATUS  \\\n",
              "0       Independent          C1000    ProductDev   Association       1   \n",
              "1       Independent          C2000  Preservation  Co-operative       1   \n",
              "2  CompanySponsored          C3000    ProductDev   Association       1   \n",
              "3  CompanySponsored          C2000  Preservation         Trust       1   \n",
              "4       Independent          C1000     Heathcare         Trust       1   \n",
              "\n",
              "      INCOME_AMT SPECIAL_CONSIDERATIONS  ASK_AMT  IS_SUCCESSFUL  \n",
              "0              0                      N     5000              1  \n",
              "1         1-9999                      N   108590              1  \n",
              "2              0                      N     5000              0  \n",
              "3    10000-24999                      N     6692              1  \n",
              "4  100000-499999                      N   142590              1  "
            ]
          },
          "execution_count": 1,
          "metadata": {},
          "output_type": "execute_result"
        }
      ],
      "source": [
        "# Import our dependencies\n",
        "from sklearn.model_selection import train_test_split\n",
        "from sklearn.preprocessing import StandardScaler\n",
        "import pandas as pd\n",
        "import tensorflow as tf\n",
        "from tensorflow.keras.models import Sequential\n",
        "from tensorflow.keras.layers import Dense\n",
        "import numpy as np\n",
        "import matplotlib.pyplot as plt\n",
        "\n",
        "#  Import and read the charity_data.csv.\n",
        "import pandas as pd\n",
        "application_df = pd.read_csv(\"https://static.bc-edx.com/data/dl-1-2/m21/lms/starter/charity_data.csv\")\n",
        "application_df.head()"
      ]
    },
    {
      "cell_type": "code",
      "execution_count": 2,
      "metadata": {
        "colab": {
          "base_uri": "https://localhost:8080/",
          "height": 261
        },
        "id": "W8IYTUNyXvAJ",
        "outputId": "b2984c26-50bd-4954-bf86-ad22eac762f3"
      },
      "outputs": [
        {
          "data": {
            "text/html": [
              "<div>\n",
              "<style scoped>\n",
              "    .dataframe tbody tr th:only-of-type {\n",
              "        vertical-align: middle;\n",
              "    }\n",
              "\n",
              "    .dataframe tbody tr th {\n",
              "        vertical-align: top;\n",
              "    }\n",
              "\n",
              "    .dataframe thead th {\n",
              "        text-align: right;\n",
              "    }\n",
              "</style>\n",
              "<table border=\"1\" class=\"dataframe\">\n",
              "  <thead>\n",
              "    <tr style=\"text-align: right;\">\n",
              "      <th></th>\n",
              "      <th>APPLICATION_TYPE</th>\n",
              "      <th>AFFILIATION</th>\n",
              "      <th>CLASSIFICATION</th>\n",
              "      <th>USE_CASE</th>\n",
              "      <th>ORGANIZATION</th>\n",
              "      <th>STATUS</th>\n",
              "      <th>INCOME_AMT</th>\n",
              "      <th>SPECIAL_CONSIDERATIONS</th>\n",
              "      <th>ASK_AMT</th>\n",
              "      <th>IS_SUCCESSFUL</th>\n",
              "    </tr>\n",
              "  </thead>\n",
              "  <tbody>\n",
              "    <tr>\n",
              "      <th>0</th>\n",
              "      <td>T10</td>\n",
              "      <td>Independent</td>\n",
              "      <td>C1000</td>\n",
              "      <td>ProductDev</td>\n",
              "      <td>Association</td>\n",
              "      <td>1</td>\n",
              "      <td>0</td>\n",
              "      <td>N</td>\n",
              "      <td>5000</td>\n",
              "      <td>1</td>\n",
              "    </tr>\n",
              "    <tr>\n",
              "      <th>1</th>\n",
              "      <td>T3</td>\n",
              "      <td>Independent</td>\n",
              "      <td>C2000</td>\n",
              "      <td>Preservation</td>\n",
              "      <td>Co-operative</td>\n",
              "      <td>1</td>\n",
              "      <td>1-9999</td>\n",
              "      <td>N</td>\n",
              "      <td>108590</td>\n",
              "      <td>1</td>\n",
              "    </tr>\n",
              "    <tr>\n",
              "      <th>2</th>\n",
              "      <td>T5</td>\n",
              "      <td>CompanySponsored</td>\n",
              "      <td>C3000</td>\n",
              "      <td>ProductDev</td>\n",
              "      <td>Association</td>\n",
              "      <td>1</td>\n",
              "      <td>0</td>\n",
              "      <td>N</td>\n",
              "      <td>5000</td>\n",
              "      <td>0</td>\n",
              "    </tr>\n",
              "    <tr>\n",
              "      <th>3</th>\n",
              "      <td>T3</td>\n",
              "      <td>CompanySponsored</td>\n",
              "      <td>C2000</td>\n",
              "      <td>Preservation</td>\n",
              "      <td>Trust</td>\n",
              "      <td>1</td>\n",
              "      <td>10000-24999</td>\n",
              "      <td>N</td>\n",
              "      <td>6692</td>\n",
              "      <td>1</td>\n",
              "    </tr>\n",
              "    <tr>\n",
              "      <th>4</th>\n",
              "      <td>T3</td>\n",
              "      <td>Independent</td>\n",
              "      <td>C1000</td>\n",
              "      <td>Heathcare</td>\n",
              "      <td>Trust</td>\n",
              "      <td>1</td>\n",
              "      <td>100000-499999</td>\n",
              "      <td>N</td>\n",
              "      <td>142590</td>\n",
              "      <td>1</td>\n",
              "    </tr>\n",
              "  </tbody>\n",
              "</table>\n",
              "</div>"
            ],
            "text/plain": [
              "  APPLICATION_TYPE       AFFILIATION CLASSIFICATION      USE_CASE  \\\n",
              "0              T10       Independent          C1000    ProductDev   \n",
              "1               T3       Independent          C2000  Preservation   \n",
              "2               T5  CompanySponsored          C3000    ProductDev   \n",
              "3               T3  CompanySponsored          C2000  Preservation   \n",
              "4               T3       Independent          C1000     Heathcare   \n",
              "\n",
              "   ORGANIZATION  STATUS     INCOME_AMT SPECIAL_CONSIDERATIONS  ASK_AMT  \\\n",
              "0   Association       1              0                      N     5000   \n",
              "1  Co-operative       1         1-9999                      N   108590   \n",
              "2   Association       1              0                      N     5000   \n",
              "3         Trust       1    10000-24999                      N     6692   \n",
              "4         Trust       1  100000-499999                      N   142590   \n",
              "\n",
              "   IS_SUCCESSFUL  \n",
              "0              1  \n",
              "1              1  \n",
              "2              0  \n",
              "3              1  \n",
              "4              1  "
            ]
          },
          "execution_count": 2,
          "metadata": {},
          "output_type": "execute_result"
        }
      ],
      "source": [
        "# Drop the non-beneficial ID columns, 'EIN' and 'NAME'.\n",
        "application_df = application_df.drop(columns=['EIN', 'NAME'])\n",
        "application_df.head()"
      ]
    },
    {
      "cell_type": "code",
      "execution_count": 3,
      "metadata": {
        "colab": {
          "base_uri": "https://localhost:8080/"
        },
        "id": "59zXJnf3XvAK",
        "outputId": "a80822dc-37f6-41c8-af12-350f3c24569e"
      },
      "outputs": [
        {
          "name": "stdout",
          "output_type": "stream",
          "text": [
            "APPLICATION_TYPE            17\n",
            "AFFILIATION                  6\n",
            "CLASSIFICATION              71\n",
            "USE_CASE                     5\n",
            "ORGANIZATION                 4\n",
            "STATUS                       2\n",
            "INCOME_AMT                   9\n",
            "SPECIAL_CONSIDERATIONS       2\n",
            "ASK_AMT                   8747\n",
            "IS_SUCCESSFUL                2\n",
            "dtype: int64\n"
          ]
        }
      ],
      "source": [
        "# Determine the number of unique values in each column.\n",
        "unique_counts = application_df.nunique()\n",
        "print(unique_counts)"
      ]
    },
    {
      "cell_type": "code",
      "execution_count": 4,
      "metadata": {
        "id": "1jw0w5Vmkd3G"
      },
      "outputs": [],
      "source": [
        "# Outlier Removal: For numerical columns like ASK_AMT\n",
        "application_df['ASK_AMT'] = np.log(application_df['ASK_AMT'] + 1)"
      ]
    },
    {
      "cell_type": "code",
      "execution_count": 5,
      "metadata": {
        "colab": {
          "base_uri": "https://localhost:8080/"
        },
        "id": "hfb2GtBDXvAK",
        "outputId": "ced1cfd1-dae1-4c9f-d0ed-408d862c94b8"
      },
      "outputs": [
        {
          "name": "stdout",
          "output_type": "stream",
          "text": [
            "T3     27037\n",
            "T4      1542\n",
            "T6      1216\n",
            "T5      1173\n",
            "T19     1065\n",
            "T8       737\n",
            "T7       725\n",
            "T10      528\n",
            "T9       156\n",
            "T13       66\n",
            "T12       27\n",
            "T2        16\n",
            "T25        3\n",
            "T14        3\n",
            "T29        2\n",
            "T15        2\n",
            "T17        1\n",
            "Name: APPLICATION_TYPE, dtype: int64\n"
          ]
        }
      ],
      "source": [
        "# Look at APPLICATION_TYPE value counts for binning\n",
        "application_type_counts = application_df[\"APPLICATION_TYPE\"].value_counts()\n",
        "print(application_type_counts)"
      ]
    },
    {
      "cell_type": "code",
      "execution_count": 6,
      "metadata": {
        "colab": {
          "base_uri": "https://localhost:8080/"
        },
        "id": "_t8YzblWXvAK",
        "outputId": "f81a069f-d212-41cb-9549-61e486a9a8da"
      },
      "outputs": [
        {
          "data": {
            "text/plain": [
              "T3       27037\n",
              "T4        1542\n",
              "T6        1216\n",
              "T5        1173\n",
              "T19       1065\n",
              "T8         737\n",
              "T7         725\n",
              "T10        528\n",
              "Other      276\n",
              "Name: APPLICATION_TYPE, dtype: int64"
            ]
          },
          "execution_count": 6,
          "metadata": {},
          "output_type": "execute_result"
        }
      ],
      "source": [
        "# Choose a cutoff value and create a list of application types to be replaced\n",
        "# use the variable name `application_types_to_replace`\n",
        "application_types_to_replace = application_type_counts[application_type_counts < 500].index.tolist()\n",
        "#print(application_types_to_replace)\n",
        "\n",
        "# Replace in dataframe\n",
        "for app in application_types_to_replace:\n",
        "    application_df['APPLICATION_TYPE'] = application_df['APPLICATION_TYPE'].replace(app,\"Other\")\n",
        "\n",
        "# Check to make sure binning was successful\n",
        "application_df['APPLICATION_TYPE'].value_counts()\n",
        "\n"
      ]
    },
    {
      "cell_type": "code",
      "execution_count": 7,
      "metadata": {
        "colab": {
          "base_uri": "https://localhost:8080/"
        },
        "id": "cg2GIppfXvAL",
        "outputId": "c39a0851-ac16-43fc-bd2f-0e780fb279e3"
      },
      "outputs": [
        {
          "name": "stdout",
          "output_type": "stream",
          "text": [
            "C1000    17326\n",
            "C2000     6074\n",
            "C1200     4837\n",
            "C3000     1918\n",
            "C2100     1883\n",
            "         ...  \n",
            "C4120        1\n",
            "C8210        1\n",
            "C2561        1\n",
            "C4500        1\n",
            "C2150        1\n",
            "Name: CLASSIFICATION, Length: 71, dtype: int64\n"
          ]
        }
      ],
      "source": [
        "# Look at CLASSIFICATION value counts for binning\n",
        "classification_counts = application_df['CLASSIFICATION'].value_counts()\n",
        "threshold = 500\n",
        "\n",
        "to_replace = classification_counts[classification_counts < threshold].index\n",
        "print(application_df['CLASSIFICATION'].value_counts())"
      ]
    },
    {
      "cell_type": "code",
      "execution_count": 8,
      "metadata": {
        "colab": {
          "base_uri": "https://localhost:8080/"
        },
        "id": "UbMPTDFMXvAL",
        "outputId": "2e798ba5-d86b-428d-e5ce-c6c4262aea31"
      },
      "outputs": [
        {
          "name": "stdout",
          "output_type": "stream",
          "text": [
            "T3     27037\n",
            "T4      1542\n",
            "T6      1216\n",
            "T5      1173\n",
            "T19     1065\n",
            "T8       737\n",
            "T7       725\n",
            "T10      528\n",
            "T9       156\n",
            "T13       66\n",
            "T12       27\n",
            "T2        16\n",
            "T25        3\n",
            "T14        3\n",
            "T29        2\n",
            "T15        2\n",
            "Name: APPLICATION_TYPE, dtype: int64\n"
          ]
        }
      ],
      "source": [
        "# You may find it helpful to look at CLASSIFICATION value counts >1\n",
        "classification_counts_gt1 = application_type_counts[application_type_counts > 1]\n",
        "print(classification_counts_gt1)"
      ]
    },
    {
      "cell_type": "code",
      "execution_count": 9,
      "metadata": {
        "colab": {
          "base_uri": "https://localhost:8080/"
        },
        "id": "MeTJbq1wXvAL",
        "outputId": "2718d45f-17be-4cdd-8eea-68ca4925d42c"
      },
      "outputs": [
        {
          "data": {
            "text/plain": [
              "C1000    17326\n",
              "C2000     6074\n",
              "C1200     4837\n",
              "C3000     1918\n",
              "C2100     1883\n",
              "Other     1484\n",
              "C7000      777\n",
              "Name: CLASSIFICATION, dtype: int64"
            ]
          },
          "execution_count": 9,
          "metadata": {},
          "output_type": "execute_result"
        }
      ],
      "source": [
        "# Choose a cutoff value and create a list of classifications to be replaced\n",
        "# use the variable name `classifications_to_replace`\n",
        "classifications_to_replace = classification_counts[classification_counts < 500].index.tolist()\n",
        "#print(classifications_to_replace)\n",
        "\n",
        "# Replace in dataframe\n",
        "for cls in classifications_to_replace:\n",
        "    application_df['CLASSIFICATION'] = application_df['CLASSIFICATION'].replace(classifications_to_replace, \"Other\")\n",
        "\n",
        "# Check to make sure binning was successful\n",
        "application_df['CLASSIFICATION'].value_counts()"
      ]
    },
    {
      "cell_type": "code",
      "execution_count": 10,
      "metadata": {
        "id": "3nreAZ61XvAM"
      },
      "outputs": [],
      "source": [
        "# Convert categorical data to numeric with `pd.get_dummies`\n",
        "application_df = pd.get_dummies(application_df)\n",
        "#print(application_df)"
      ]
    },
    {
      "cell_type": "code",
      "execution_count": 11,
      "metadata": {
        "colab": {
          "base_uri": "https://localhost:8080/"
        },
        "id": "gIlcx-RuXvAM",
        "outputId": "03597808-e3af-4950-f0c8-406229a43c62"
      },
      "outputs": [
        {
          "name": "stdout",
          "output_type": "stream",
          "text": [
            "[1.         8.51739317 0.         1.         0.         0.\n",
            " 0.         0.         0.         0.         0.         0.\n",
            " 0.         1.         0.         0.         0.         1.\n",
            " 0.         0.         0.         0.         0.         0.\n",
            " 0.         0.         0.         0.         1.         1.\n",
            " 0.         0.         0.         1.         0.         0.\n",
            " 0.         0.         0.         0.         0.         0.\n",
            " 1.         0.        ]\n",
            "1\n",
            "Training Data Count: 25724\n",
            "Testing Data Count: 8575\n"
          ]
        }
      ],
      "source": [
        "# Split our preprocessed data into our features and target arrays\n",
        "y = application_df[\"IS_SUCCESSFUL\"].values\n",
        "X = application_df.drop([\"IS_SUCCESSFUL\"], axis=1).values\n",
        "print(X[0])\n",
        "print(y[0])\n",
        "\n",
        "\n",
        "# Split the preprocessed data into a training and testing dataset\n",
        "X_train, X_test, y_train, y_test = train_test_split(X, y, random_state=78)\n",
        "print(f\"Training Data Count: {len(X_train)}\")\n",
        "print(f\"Testing Data Count: {len(X_test)}\")"
      ]
    },
    {
      "cell_type": "code",
      "execution_count": 13,
      "metadata": {
        "id": "JUVTfPh5XvAM"
      },
      "outputs": [],
      "source": [
        "# Create a StandardScaler instances\n",
        "scaler = StandardScaler()\n",
        "\n",
        "# Fit the StandardScaler\n",
        "X_scaler = scaler.fit(X_train)\n",
        "\n",
        "# Scale the data\n",
        "X_train_scaled = X_scaler.transform(X_train)\n",
        "X_test_scaled = X_scaler.transform(X_test)"
      ]
    },
    {
      "cell_type": "markdown",
      "metadata": {
        "id": "gQQzzoLrXvAM"
      },
      "source": [
        "## Compile, Train and Evaluate the Model"
      ]
    },
    {
      "cell_type": "code",
      "execution_count": 28,
      "metadata": {
        "colab": {
          "base_uri": "https://localhost:8080/"
        },
        "id": "sh33dTw9XvAM",
        "outputId": "5fa7ae1d-7210-4f34-b9d2-4795ad2ce5e7"
      },
      "outputs": [
        {
          "name": "stdout",
          "output_type": "stream",
          "text": [
            "Model: \"sequential_4\"\n",
            "_________________________________________________________________\n",
            " Layer (type)                Output Shape              Param #   \n",
            "=================================================================\n",
            " dense_15 (Dense)            (None, 88)                3960      \n",
            "                                                                 \n",
            " dense_16 (Dense)            (None, 44)                3916      \n",
            "                                                                 \n",
            " dense_17 (Dense)            (None, 1)                 45        \n",
            "                                                                 \n",
            "=================================================================\n",
            "Total params: 7921 (30.94 KB)\n",
            "Trainable params: 7921 (30.94 KB)\n",
            "Non-trainable params: 0 (0.00 Byte)\n",
            "_________________________________________________________________\n"
          ]
        }
      ],
      "source": [
        "# Define the model - deep neural net, i.e., the number of input features and hidden nodes for each layer.\n",
        "number_input_features = len(X_train_scaled[0])\n",
        "\n",
        "nn = tf.keras.models.Sequential()\n",
        "\n",
        "# First hidden layer\n",
        "nn.add(tf.keras.layers.Dense(units=number_input_features*2, activation=\"relu\", input_dim=number_input_features))\n",
        "\n",
        "# Second hidden layer\n",
        "nn.add(tf.keras.layers.Dense(units=number_input_features, activation=\"relu\"))\n",
        "\n",
        "# Output layer\n",
        "nn.add(tf.keras.layers.Dense(units=1, activation=\"sigmoid\"))\n",
        "\n",
        "# Check the structure of the model\n",
        "nn.summary()"
      ]
    },
    {
      "cell_type": "code",
      "execution_count": 29,
      "metadata": {
        "id": "qlTXZ2dIXvAN"
      },
      "outputs": [],
      "source": [
        "# Compile the model\n",
        "nn.compile(loss='binary_crossentropy', optimizer='adam', metrics=['accuracy'])\n"
      ]
    },
    {
      "cell_type": "code",
      "execution_count": 30,
      "metadata": {
        "colab": {
          "base_uri": "https://localhost:8080/"
        },
        "id": "MJg3YETqXvAN",
        "outputId": "d7d8beaf-ff4a-4f81-d788-89efdbbd444b"
      },
      "outputs": [
        {
          "name": "stdout",
          "output_type": "stream",
          "text": [
            "Epoch 1/47\n",
            "804/804 [==============================] - 1s 1ms/step - loss: 0.5685 - accuracy: 0.7217 - val_loss: 0.5583 - val_accuracy: 0.7242\n",
            "Epoch 2/47\n",
            "804/804 [==============================] - 1s 1ms/step - loss: 0.5530 - accuracy: 0.7299 - val_loss: 0.5559 - val_accuracy: 0.7244\n",
            "Epoch 3/47\n",
            "804/804 [==============================] - 1s 1ms/step - loss: 0.5507 - accuracy: 0.7312 - val_loss: 0.5514 - val_accuracy: 0.7287\n",
            "Epoch 4/47\n",
            "804/804 [==============================] - 1s 1ms/step - loss: 0.5488 - accuracy: 0.7319 - val_loss: 0.5536 - val_accuracy: 0.7269\n",
            "Epoch 5/47\n",
            "804/804 [==============================] - 1s 1ms/step - loss: 0.5482 - accuracy: 0.7322 - val_loss: 0.5512 - val_accuracy: 0.7264\n",
            "Epoch 6/47\n",
            "804/804 [==============================] - 1s 1ms/step - loss: 0.5464 - accuracy: 0.7335 - val_loss: 0.5502 - val_accuracy: 0.7264\n",
            "Epoch 7/47\n",
            "804/804 [==============================] - 1s 1ms/step - loss: 0.5452 - accuracy: 0.7342 - val_loss: 0.5508 - val_accuracy: 0.7254\n",
            "Epoch 8/47\n",
            "804/804 [==============================] - 1s 1ms/step - loss: 0.5444 - accuracy: 0.7324 - val_loss: 0.5498 - val_accuracy: 0.7277\n",
            "Epoch 9/47\n",
            "804/804 [==============================] - 1s 1ms/step - loss: 0.5440 - accuracy: 0.7351 - val_loss: 0.5485 - val_accuracy: 0.7259\n",
            "Epoch 10/47\n",
            "804/804 [==============================] - 1s 1ms/step - loss: 0.5430 - accuracy: 0.7365 - val_loss: 0.5504 - val_accuracy: 0.7256\n",
            "Epoch 11/47\n",
            "804/804 [==============================] - 1s 1ms/step - loss: 0.5425 - accuracy: 0.7364 - val_loss: 0.5504 - val_accuracy: 0.7284\n",
            "Epoch 12/47\n",
            "804/804 [==============================] - 1s 1ms/step - loss: 0.5424 - accuracy: 0.7353 - val_loss: 0.5529 - val_accuracy: 0.7269\n",
            "Epoch 13/47\n",
            "804/804 [==============================] - 1s 1ms/step - loss: 0.5415 - accuracy: 0.7377 - val_loss: 0.5525 - val_accuracy: 0.7290\n",
            "Epoch 14/47\n",
            "804/804 [==============================] - 1s 1ms/step - loss: 0.5414 - accuracy: 0.7381 - val_loss: 0.5486 - val_accuracy: 0.7285\n",
            "Epoch 15/47\n",
            "804/804 [==============================] - 1s 1ms/step - loss: 0.5406 - accuracy: 0.7366 - val_loss: 0.5481 - val_accuracy: 0.7289\n",
            "Epoch 16/47\n",
            "804/804 [==============================] - 1s 1ms/step - loss: 0.5408 - accuracy: 0.7365 - val_loss: 0.5493 - val_accuracy: 0.7276\n",
            "Epoch 17/47\n",
            "804/804 [==============================] - 1s 1ms/step - loss: 0.5401 - accuracy: 0.7377 - val_loss: 0.5502 - val_accuracy: 0.7279\n",
            "Epoch 18/47\n",
            "804/804 [==============================] - 1s 987us/step - loss: 0.5391 - accuracy: 0.7392 - val_loss: 0.5517 - val_accuracy: 0.7278\n",
            "Epoch 19/47\n",
            "804/804 [==============================] - 1s 1ms/step - loss: 0.5390 - accuracy: 0.7376 - val_loss: 0.5492 - val_accuracy: 0.7270\n",
            "Epoch 20/47\n",
            "804/804 [==============================] - 1s 1ms/step - loss: 0.5390 - accuracy: 0.7397 - val_loss: 0.5501 - val_accuracy: 0.7271\n",
            "Epoch 21/47\n",
            "804/804 [==============================] - 1s 1ms/step - loss: 0.5384 - accuracy: 0.7377 - val_loss: 0.5488 - val_accuracy: 0.7272\n",
            "Epoch 22/47\n",
            "804/804 [==============================] - 1s 1ms/step - loss: 0.5380 - accuracy: 0.7391 - val_loss: 0.5489 - val_accuracy: 0.7266\n",
            "Epoch 23/47\n",
            "804/804 [==============================] - 1s 1ms/step - loss: 0.5378 - accuracy: 0.7388 - val_loss: 0.5497 - val_accuracy: 0.7259\n",
            "Epoch 24/47\n",
            "804/804 [==============================] - 1s 1ms/step - loss: 0.5377 - accuracy: 0.7388 - val_loss: 0.5497 - val_accuracy: 0.7283\n",
            "Epoch 25/47\n",
            "804/804 [==============================] - 1s 1ms/step - loss: 0.5374 - accuracy: 0.7389 - val_loss: 0.5516 - val_accuracy: 0.7282\n",
            "Epoch 26/47\n",
            "804/804 [==============================] - 1s 1ms/step - loss: 0.5364 - accuracy: 0.7400 - val_loss: 0.5513 - val_accuracy: 0.7268\n",
            "Epoch 27/47\n",
            "804/804 [==============================] - 1s 1ms/step - loss: 0.5367 - accuracy: 0.7393 - val_loss: 0.5480 - val_accuracy: 0.7261\n",
            "Epoch 28/47\n",
            "804/804 [==============================] - 1s 1ms/step - loss: 0.5369 - accuracy: 0.7390 - val_loss: 0.5506 - val_accuracy: 0.7258\n",
            "Epoch 29/47\n",
            "804/804 [==============================] - 1s 1ms/step - loss: 0.5368 - accuracy: 0.7389 - val_loss: 0.5493 - val_accuracy: 0.7265\n",
            "Epoch 30/47\n",
            "804/804 [==============================] - 1s 1ms/step - loss: 0.5356 - accuracy: 0.7404 - val_loss: 0.5507 - val_accuracy: 0.7257\n",
            "Epoch 31/47\n",
            "804/804 [==============================] - 1s 1ms/step - loss: 0.5357 - accuracy: 0.7403 - val_loss: 0.5527 - val_accuracy: 0.7244\n",
            "Epoch 32/47\n",
            "804/804 [==============================] - 1s 1ms/step - loss: 0.5350 - accuracy: 0.7407 - val_loss: 0.5504 - val_accuracy: 0.7268\n",
            "Epoch 33/47\n",
            "804/804 [==============================] - 1s 1ms/step - loss: 0.5357 - accuracy: 0.7406 - val_loss: 0.5500 - val_accuracy: 0.7287\n",
            "Epoch 34/47\n",
            "804/804 [==============================] - 1s 1ms/step - loss: 0.5356 - accuracy: 0.7388 - val_loss: 0.5501 - val_accuracy: 0.7265\n",
            "Epoch 35/47\n",
            "804/804 [==============================] - 1s 1ms/step - loss: 0.5347 - accuracy: 0.7409 - val_loss: 0.5498 - val_accuracy: 0.7261\n",
            "Epoch 36/47\n",
            "804/804 [==============================] - 1s 1ms/step - loss: 0.5350 - accuracy: 0.7416 - val_loss: 0.5501 - val_accuracy: 0.7265\n",
            "Epoch 37/47\n",
            "804/804 [==============================] - 1s 990us/step - loss: 0.5349 - accuracy: 0.7408 - val_loss: 0.5509 - val_accuracy: 0.7258\n",
            "Epoch 38/47\n",
            "804/804 [==============================] - 1s 1ms/step - loss: 0.5346 - accuracy: 0.7397 - val_loss: 0.5502 - val_accuracy: 0.7254\n",
            "Epoch 39/47\n",
            "804/804 [==============================] - 1s 984us/step - loss: 0.5339 - accuracy: 0.7421 - val_loss: 0.5502 - val_accuracy: 0.7265\n",
            "Epoch 40/47\n",
            "804/804 [==============================] - 1s 993us/step - loss: 0.5341 - accuracy: 0.7413 - val_loss: 0.5518 - val_accuracy: 0.7258\n",
            "Epoch 41/47\n",
            "804/804 [==============================] - 1s 987us/step - loss: 0.5335 - accuracy: 0.7423 - val_loss: 0.5506 - val_accuracy: 0.7261\n",
            "Epoch 42/47\n",
            "804/804 [==============================] - 1s 1ms/step - loss: 0.5338 - accuracy: 0.7418 - val_loss: 0.5496 - val_accuracy: 0.7269\n",
            "Epoch 43/47\n",
            "804/804 [==============================] - 1s 1ms/step - loss: 0.5336 - accuracy: 0.7421 - val_loss: 0.5508 - val_accuracy: 0.7261\n",
            "Epoch 44/47\n",
            "804/804 [==============================] - 1s 988us/step - loss: 0.5329 - accuracy: 0.7421 - val_loss: 0.5526 - val_accuracy: 0.7258\n",
            "Epoch 45/47\n",
            "804/804 [==============================] - 1s 992us/step - loss: 0.5325 - accuracy: 0.7421 - val_loss: 0.5527 - val_accuracy: 0.7248\n",
            "Epoch 46/47\n",
            "804/804 [==============================] - 1s 1ms/step - loss: 0.5330 - accuracy: 0.7432 - val_loss: 0.5533 - val_accuracy: 0.7277\n",
            "Epoch 47/47\n",
            "804/804 [==============================] - 1s 1ms/step - loss: 0.5325 - accuracy: 0.7416 - val_loss: 0.5519 - val_accuracy: 0.7261\n"
          ]
        }
      ],
      "source": [
        "# Train the model\n",
        "num_epochs = 47\n",
        "\n",
        "history = nn.fit(\n",
        "    X_train_scaled,\n",
        "    y_train,\n",
        "    epochs=num_epochs,\n",
        "    validation_data=(X_test_scaled, y_test),\n",
        "    verbose=1,\n",
        ")"
      ]
    },
    {
      "cell_type": "code",
      "execution_count": 31,
      "metadata": {
        "colab": {
          "base_uri": "https://localhost:8080/",
          "height": 616
        },
        "id": "DHaqFhGNXvAN",
        "outputId": "b49d7a52-288a-4997-a190-585541b621a5"
      },
      "outputs": [
        {
          "name": "stdout",
          "output_type": "stream",
          "text": [
            "268/268 - 0s - loss: 0.5519 - accuracy: 0.7261 - 176ms/epoch - 657us/step\n",
            "Loss: 0.5519094467163086, Accuracy: 0.726064145565033\n"
          ]
        }
      ],
      "source": [
        "# Evaluate the model using the test data\n",
        "model_loss, model_accuracy = nn.evaluate(X_test_scaled,y_test,verbose=2)\n",
        "print(f\"Loss: {model_loss}, Accuracy: {model_accuracy}\")\n",
        "\n"
      ]
    },
    {
      "cell_type": "code",
      "execution_count": 32,
      "metadata": {
        "colab": {
          "base_uri": "https://localhost:8080/"
        },
        "id": "CtGMrCXDnDAA",
        "outputId": "ca309acf-add9-4013-9a07-5f84cdc8e73f"
      },
      "outputs": [
        {
          "name": "stdout",
          "output_type": "stream",
          "text": [
            "Epoch 1/100\n",
            "804/804 [==============================] - 2s 1ms/step - loss: 0.5646 - accuracy: 0.7236 - val_loss: 0.5552 - val_accuracy: 0.7231\n",
            "Epoch 2/100\n",
            "804/804 [==============================] - 1s 1ms/step - loss: 0.5532 - accuracy: 0.7306 - val_loss: 0.5515 - val_accuracy: 0.7275\n",
            "Epoch 3/100\n",
            "804/804 [==============================] - 1s 1ms/step - loss: 0.5495 - accuracy: 0.7325 - val_loss: 0.5595 - val_accuracy: 0.7256\n",
            "Epoch 4/100\n",
            "804/804 [==============================] - 1s 1ms/step - loss: 0.5484 - accuracy: 0.7329 - val_loss: 0.5532 - val_accuracy: 0.7272\n",
            "Epoch 5/100\n",
            "804/804 [==============================] - 1s 1ms/step - loss: 0.5471 - accuracy: 0.7336 - val_loss: 0.5497 - val_accuracy: 0.7273\n",
            "Epoch 6/100\n",
            "804/804 [==============================] - 1s 1ms/step - loss: 0.5458 - accuracy: 0.7339 - val_loss: 0.5538 - val_accuracy: 0.7269\n",
            "Epoch 7/100\n",
            "804/804 [==============================] - 1s 1ms/step - loss: 0.5458 - accuracy: 0.7354 - val_loss: 0.5503 - val_accuracy: 0.7273\n",
            "Epoch 8/100\n",
            "804/804 [==============================] - 1s 1ms/step - loss: 0.5444 - accuracy: 0.7352 - val_loss: 0.5496 - val_accuracy: 0.7271\n",
            "Epoch 9/100\n",
            "804/804 [==============================] - 1s 1ms/step - loss: 0.5437 - accuracy: 0.7359 - val_loss: 0.5523 - val_accuracy: 0.7265\n",
            "Epoch 10/100\n",
            "804/804 [==============================] - 1s 1ms/step - loss: 0.5427 - accuracy: 0.7362 - val_loss: 0.5512 - val_accuracy: 0.7282\n",
            "Epoch 11/100\n",
            "804/804 [==============================] - 1s 1ms/step - loss: 0.5423 - accuracy: 0.7362 - val_loss: 0.5495 - val_accuracy: 0.7290\n",
            "Epoch 12/100\n",
            "804/804 [==============================] - 1s 1ms/step - loss: 0.5413 - accuracy: 0.7371 - val_loss: 0.5497 - val_accuracy: 0.7290\n",
            "Epoch 13/100\n",
            "804/804 [==============================] - 1s 1ms/step - loss: 0.5412 - accuracy: 0.7369 - val_loss: 0.5514 - val_accuracy: 0.7263\n",
            "Epoch 14/100\n",
            "804/804 [==============================] - 1s 1ms/step - loss: 0.5411 - accuracy: 0.7375 - val_loss: 0.5507 - val_accuracy: 0.7271\n",
            "Epoch 15/100\n",
            "804/804 [==============================] - 1s 1ms/step - loss: 0.5399 - accuracy: 0.7369 - val_loss: 0.5494 - val_accuracy: 0.7277\n",
            "Epoch 16/100\n",
            "804/804 [==============================] - 1s 1ms/step - loss: 0.5397 - accuracy: 0.7383 - val_loss: 0.5502 - val_accuracy: 0.7270\n",
            "Epoch 17/100\n",
            "804/804 [==============================] - 1s 1ms/step - loss: 0.5390 - accuracy: 0.7382 - val_loss: 0.5507 - val_accuracy: 0.7276\n",
            "Epoch 18/100\n",
            "804/804 [==============================] - 1s 1ms/step - loss: 0.5386 - accuracy: 0.7393 - val_loss: 0.5511 - val_accuracy: 0.7265\n",
            "Epoch 19/100\n",
            "804/804 [==============================] - 1s 1ms/step - loss: 0.5377 - accuracy: 0.7398 - val_loss: 0.5520 - val_accuracy: 0.7255\n",
            "Epoch 20/100\n",
            "804/804 [==============================] - 1s 1ms/step - loss: 0.5378 - accuracy: 0.7402 - val_loss: 0.5503 - val_accuracy: 0.7263\n",
            "Epoch 21/100\n",
            "804/804 [==============================] - 1s 1ms/step - loss: 0.5373 - accuracy: 0.7406 - val_loss: 0.5517 - val_accuracy: 0.7263\n",
            "Epoch 22/100\n",
            "804/804 [==============================] - 1s 1ms/step - loss: 0.5371 - accuracy: 0.7398 - val_loss: 0.5533 - val_accuracy: 0.7265\n",
            "Epoch 23/100\n",
            "804/804 [==============================] - 1s 1ms/step - loss: 0.5367 - accuracy: 0.7406 - val_loss: 0.5520 - val_accuracy: 0.7269\n",
            "Epoch 24/100\n",
            "804/804 [==============================] - 1s 1ms/step - loss: 0.5359 - accuracy: 0.7412 - val_loss: 0.5535 - val_accuracy: 0.7269\n",
            "Epoch 25/100\n",
            "804/804 [==============================] - 1s 1ms/step - loss: 0.5356 - accuracy: 0.7408 - val_loss: 0.5520 - val_accuracy: 0.7272\n",
            "Epoch 26/100\n",
            "804/804 [==============================] - 1s 1ms/step - loss: 0.5348 - accuracy: 0.7410 - val_loss: 0.5540 - val_accuracy: 0.7268\n",
            "Epoch 27/100\n",
            "804/804 [==============================] - 1s 1ms/step - loss: 0.5348 - accuracy: 0.7418 - val_loss: 0.5550 - val_accuracy: 0.7251\n",
            "Epoch 28/100\n",
            "804/804 [==============================] - 1s 1ms/step - loss: 0.5349 - accuracy: 0.7413 - val_loss: 0.5531 - val_accuracy: 0.7257\n",
            "Epoch 29/100\n",
            "804/804 [==============================] - 1s 1ms/step - loss: 0.5343 - accuracy: 0.7420 - val_loss: 0.5521 - val_accuracy: 0.7279\n",
            "Epoch 30/100\n",
            "804/804 [==============================] - 1s 1ms/step - loss: 0.5338 - accuracy: 0.7403 - val_loss: 0.5524 - val_accuracy: 0.7268\n",
            "Epoch 31/100\n",
            "804/804 [==============================] - 1s 1ms/step - loss: 0.5331 - accuracy: 0.7420 - val_loss: 0.5523 - val_accuracy: 0.7266\n",
            "Epoch 32/100\n",
            "804/804 [==============================] - 1s 1ms/step - loss: 0.5329 - accuracy: 0.7429 - val_loss: 0.5561 - val_accuracy: 0.7261\n",
            "Epoch 33/100\n",
            "804/804 [==============================] - 1s 1ms/step - loss: 0.5325 - accuracy: 0.7428 - val_loss: 0.5545 - val_accuracy: 0.7280\n",
            "Epoch 34/100\n",
            "804/804 [==============================] - 1s 1ms/step - loss: 0.5327 - accuracy: 0.7421 - val_loss: 0.5586 - val_accuracy: 0.7259\n",
            "Epoch 35/100\n",
            "804/804 [==============================] - 1s 1ms/step - loss: 0.5323 - accuracy: 0.7430 - val_loss: 0.5542 - val_accuracy: 0.7275\n",
            "Epoch 36/100\n",
            "804/804 [==============================] - 1s 1ms/step - loss: 0.5314 - accuracy: 0.7430 - val_loss: 0.5548 - val_accuracy: 0.7272\n",
            "Epoch 37/100\n",
            "804/804 [==============================] - 1s 1ms/step - loss: 0.5315 - accuracy: 0.7440 - val_loss: 0.5572 - val_accuracy: 0.7247\n",
            "Epoch 38/100\n",
            "804/804 [==============================] - 1s 1ms/step - loss: 0.5312 - accuracy: 0.7445 - val_loss: 0.5555 - val_accuracy: 0.7278\n",
            "Epoch 39/100\n",
            "804/804 [==============================] - 1s 1ms/step - loss: 0.5309 - accuracy: 0.7439 - val_loss: 0.5553 - val_accuracy: 0.7258\n",
            "Epoch 40/100\n",
            "804/804 [==============================] - 1s 1ms/step - loss: 0.5303 - accuracy: 0.7430 - val_loss: 0.5600 - val_accuracy: 0.7262\n",
            "Epoch 41/100\n",
            "804/804 [==============================] - 1s 1ms/step - loss: 0.5304 - accuracy: 0.7444 - val_loss: 0.5578 - val_accuracy: 0.7261\n",
            "Epoch 42/100\n",
            "804/804 [==============================] - 1s 1ms/step - loss: 0.5295 - accuracy: 0.7430 - val_loss: 0.5600 - val_accuracy: 0.7254\n",
            "Epoch 43/100\n",
            "804/804 [==============================] - 1s 1ms/step - loss: 0.5295 - accuracy: 0.7447 - val_loss: 0.5589 - val_accuracy: 0.7243\n",
            "Epoch 44/100\n",
            "804/804 [==============================] - 1s 1ms/step - loss: 0.5289 - accuracy: 0.7438 - val_loss: 0.5598 - val_accuracy: 0.7269\n",
            "Epoch 45/100\n",
            "804/804 [==============================] - 1s 1ms/step - loss: 0.5291 - accuracy: 0.7451 - val_loss: 0.5591 - val_accuracy: 0.7257\n",
            "Epoch 46/100\n",
            "804/804 [==============================] - 1s 1ms/step - loss: 0.5287 - accuracy: 0.7449 - val_loss: 0.5615 - val_accuracy: 0.7242\n",
            "Epoch 47/100\n",
            "804/804 [==============================] - 1s 1ms/step - loss: 0.5287 - accuracy: 0.7451 - val_loss: 0.5576 - val_accuracy: 0.7244\n",
            "Epoch 48/100\n",
            "804/804 [==============================] - 1s 1ms/step - loss: 0.5279 - accuracy: 0.7457 - val_loss: 0.5628 - val_accuracy: 0.7243\n",
            "Epoch 49/100\n",
            "804/804 [==============================] - 1s 1ms/step - loss: 0.5280 - accuracy: 0.7458 - val_loss: 0.5599 - val_accuracy: 0.7252\n",
            "Epoch 50/100\n",
            "804/804 [==============================] - 1s 1ms/step - loss: 0.5286 - accuracy: 0.7453 - val_loss: 0.5618 - val_accuracy: 0.7259\n",
            "Epoch 51/100\n",
            "804/804 [==============================] - 1s 1ms/step - loss: 0.5281 - accuracy: 0.7457 - val_loss: 0.5671 - val_accuracy: 0.7241\n",
            "Epoch 52/100\n",
            "804/804 [==============================] - 1s 1ms/step - loss: 0.5273 - accuracy: 0.7461 - val_loss: 0.5593 - val_accuracy: 0.7258\n",
            "Epoch 53/100\n",
            "804/804 [==============================] - 1s 1ms/step - loss: 0.5270 - accuracy: 0.7446 - val_loss: 0.5610 - val_accuracy: 0.7235\n",
            "Epoch 54/100\n",
            "804/804 [==============================] - 1s 1ms/step - loss: 0.5269 - accuracy: 0.7455 - val_loss: 0.5627 - val_accuracy: 0.7231\n",
            "Epoch 55/100\n",
            "804/804 [==============================] - 1s 1ms/step - loss: 0.5264 - accuracy: 0.7458 - val_loss: 0.5622 - val_accuracy: 0.7251\n",
            "Epoch 56/100\n",
            "804/804 [==============================] - 1s 1ms/step - loss: 0.5265 - accuracy: 0.7451 - val_loss: 0.5625 - val_accuracy: 0.7250\n",
            "Epoch 57/100\n",
            "804/804 [==============================] - 1s 1ms/step - loss: 0.5265 - accuracy: 0.7453 - val_loss: 0.5654 - val_accuracy: 0.7249\n",
            "Epoch 58/100\n",
            "804/804 [==============================] - 1s 1ms/step - loss: 0.5258 - accuracy: 0.7465 - val_loss: 0.5651 - val_accuracy: 0.7234\n",
            "Epoch 59/100\n",
            "804/804 [==============================] - 1s 1ms/step - loss: 0.5259 - accuracy: 0.7460 - val_loss: 0.5638 - val_accuracy: 0.7242\n",
            "Epoch 60/100\n",
            "804/804 [==============================] - 1s 1ms/step - loss: 0.5262 - accuracy: 0.7457 - val_loss: 0.5643 - val_accuracy: 0.7247\n",
            "Epoch 61/100\n",
            "804/804 [==============================] - 1s 1ms/step - loss: 0.5254 - accuracy: 0.7460 - val_loss: 0.5644 - val_accuracy: 0.7249\n",
            "Epoch 62/100\n",
            "804/804 [==============================] - 1s 1ms/step - loss: 0.5261 - accuracy: 0.7458 - val_loss: 0.5644 - val_accuracy: 0.7247\n",
            "Epoch 63/100\n",
            "804/804 [==============================] - 1s 1ms/step - loss: 0.5250 - accuracy: 0.7471 - val_loss: 0.5686 - val_accuracy: 0.7244\n",
            "Epoch 64/100\n",
            "804/804 [==============================] - 1s 1ms/step - loss: 0.5255 - accuracy: 0.7463 - val_loss: 0.5664 - val_accuracy: 0.7229\n",
            "Epoch 65/100\n",
            "804/804 [==============================] - 1s 1ms/step - loss: 0.5256 - accuracy: 0.7457 - val_loss: 0.5645 - val_accuracy: 0.7251\n",
            "Epoch 66/100\n",
            "804/804 [==============================] - 1s 1ms/step - loss: 0.5239 - accuracy: 0.7465 - val_loss: 0.5685 - val_accuracy: 0.7241\n",
            "Epoch 67/100\n",
            "804/804 [==============================] - 1s 1ms/step - loss: 0.5251 - accuracy: 0.7457 - val_loss: 0.5677 - val_accuracy: 0.7240\n",
            "Epoch 68/100\n",
            "804/804 [==============================] - 1s 1ms/step - loss: 0.5249 - accuracy: 0.7458 - val_loss: 0.5700 - val_accuracy: 0.7248\n",
            "Epoch 69/100\n",
            "804/804 [==============================] - 1s 1ms/step - loss: 0.5234 - accuracy: 0.7475 - val_loss: 0.5738 - val_accuracy: 0.7242\n",
            "Epoch 70/100\n",
            "804/804 [==============================] - 1s 1ms/step - loss: 0.5235 - accuracy: 0.7476 - val_loss: 0.5739 - val_accuracy: 0.7252\n",
            "Epoch 71/100\n",
            "804/804 [==============================] - 1s 1ms/step - loss: 0.5233 - accuracy: 0.7462 - val_loss: 0.5716 - val_accuracy: 0.7228\n",
            "Epoch 72/100\n",
            "804/804 [==============================] - 1s 1ms/step - loss: 0.5236 - accuracy: 0.7457 - val_loss: 0.5723 - val_accuracy: 0.7247\n",
            "Epoch 73/100\n",
            "804/804 [==============================] - 1s 1ms/step - loss: 0.5236 - accuracy: 0.7467 - val_loss: 0.5748 - val_accuracy: 0.7250\n",
            "Epoch 74/100\n",
            "804/804 [==============================] - 1s 1ms/step - loss: 0.5233 - accuracy: 0.7465 - val_loss: 0.5744 - val_accuracy: 0.7252\n",
            "Epoch 75/100\n",
            "804/804 [==============================] - 1s 1ms/step - loss: 0.5236 - accuracy: 0.7473 - val_loss: 0.5704 - val_accuracy: 0.7252\n",
            "Epoch 76/100\n",
            "804/804 [==============================] - 1s 1ms/step - loss: 0.5228 - accuracy: 0.7474 - val_loss: 0.5750 - val_accuracy: 0.7243\n",
            "Epoch 77/100\n",
            "804/804 [==============================] - 1s 1ms/step - loss: 0.5228 - accuracy: 0.7479 - val_loss: 0.5754 - val_accuracy: 0.7255\n",
            "Epoch 78/100\n",
            "804/804 [==============================] - 1s 1ms/step - loss: 0.5233 - accuracy: 0.7464 - val_loss: 0.5741 - val_accuracy: 0.7259\n",
            "Epoch 79/100\n",
            "804/804 [==============================] - 1s 1ms/step - loss: 0.5226 - accuracy: 0.7466 - val_loss: 0.5730 - val_accuracy: 0.7256\n",
            "Epoch 80/100\n",
            "804/804 [==============================] - 1s 1ms/step - loss: 0.5227 - accuracy: 0.7466 - val_loss: 0.5751 - val_accuracy: 0.7224\n",
            "Epoch 81/100\n",
            "804/804 [==============================] - 1s 1ms/step - loss: 0.5220 - accuracy: 0.7467 - val_loss: 0.5773 - val_accuracy: 0.7249\n",
            "Epoch 82/100\n",
            "804/804 [==============================] - 1s 1ms/step - loss: 0.5224 - accuracy: 0.7468 - val_loss: 0.5776 - val_accuracy: 0.7247\n",
            "Epoch 83/100\n",
            "804/804 [==============================] - 1s 1ms/step - loss: 0.5218 - accuracy: 0.7474 - val_loss: 0.5813 - val_accuracy: 0.7240\n",
            "Epoch 84/100\n",
            "804/804 [==============================] - 1s 1ms/step - loss: 0.5217 - accuracy: 0.7474 - val_loss: 0.5773 - val_accuracy: 0.7248\n",
            "Epoch 85/100\n",
            "804/804 [==============================] - 1s 1ms/step - loss: 0.5215 - accuracy: 0.7474 - val_loss: 0.5770 - val_accuracy: 0.7248\n",
            "Epoch 86/100\n",
            "804/804 [==============================] - 1s 1ms/step - loss: 0.5214 - accuracy: 0.7479 - val_loss: 0.5796 - val_accuracy: 0.7236\n",
            "Epoch 87/100\n",
            "804/804 [==============================] - 1s 1ms/step - loss: 0.5210 - accuracy: 0.7473 - val_loss: 0.5825 - val_accuracy: 0.7229\n",
            "Epoch 88/100\n",
            "804/804 [==============================] - 1s 1ms/step - loss: 0.5219 - accuracy: 0.7468 - val_loss: 0.5816 - val_accuracy: 0.7230\n",
            "Epoch 89/100\n",
            "804/804 [==============================] - 1s 1ms/step - loss: 0.5214 - accuracy: 0.7476 - val_loss: 0.5808 - val_accuracy: 0.7229\n",
            "Epoch 90/100\n",
            "804/804 [==============================] - 1s 1ms/step - loss: 0.5205 - accuracy: 0.7487 - val_loss: 0.5845 - val_accuracy: 0.7227\n",
            "Epoch 91/100\n",
            "804/804 [==============================] - 1s 1ms/step - loss: 0.5212 - accuracy: 0.7463 - val_loss: 0.5814 - val_accuracy: 0.7231\n",
            "Epoch 92/100\n",
            "804/804 [==============================] - 1s 1ms/step - loss: 0.5206 - accuracy: 0.7478 - val_loss: 0.5891 - val_accuracy: 0.7245\n",
            "Epoch 93/100\n",
            "804/804 [==============================] - 1s 1ms/step - loss: 0.5207 - accuracy: 0.7476 - val_loss: 0.5921 - val_accuracy: 0.7248\n",
            "Epoch 94/100\n",
            "804/804 [==============================] - 1s 1ms/step - loss: 0.5206 - accuracy: 0.7484 - val_loss: 0.5853 - val_accuracy: 0.7255\n",
            "Epoch 95/100\n",
            "804/804 [==============================] - 1s 1ms/step - loss: 0.5213 - accuracy: 0.7470 - val_loss: 0.5860 - val_accuracy: 0.7229\n",
            "Epoch 96/100\n",
            "804/804 [==============================] - 1s 1ms/step - loss: 0.5209 - accuracy: 0.7467 - val_loss: 0.5885 - val_accuracy: 0.7224\n",
            "Epoch 97/100\n",
            "804/804 [==============================] - 1s 1ms/step - loss: 0.5197 - accuracy: 0.7482 - val_loss: 0.5878 - val_accuracy: 0.7242\n",
            "Epoch 98/100\n",
            "804/804 [==============================] - 1s 1ms/step - loss: 0.5201 - accuracy: 0.7481 - val_loss: 0.5925 - val_accuracy: 0.7228\n",
            "Epoch 99/100\n",
            "804/804 [==============================] - 1s 1ms/step - loss: 0.5208 - accuracy: 0.7482 - val_loss: 0.5794 - val_accuracy: 0.7252\n",
            "Epoch 100/100\n",
            "804/804 [==============================] - 1s 1ms/step - loss: 0.5197 - accuracy: 0.7476 - val_loss: 0.5903 - val_accuracy: 0.7226\n"
          ]
        }
      ],
      "source": [
        "# Define the model - deep neural net, i.e., the number of input features and hidden nodes for each layer.\n",
        "number_input_features = len(X_train_scaled[0])\n",
        "\n",
        "# Neural Network Architecture Adjustment\n",
        "nn = tf.keras.models.Sequential()\n",
        "\n",
        "# First hidden layer (Increased neurons and changed activation function)\n",
        "nn.add(tf.keras.layers.Dense(units=number_input_features*3, activation=\"swish\", input_dim=number_input_features))\n",
        "\n",
        "# Second hidden layer (Increased neurons)\n",
        "nn.add(tf.keras.layers.Dense(units=number_input_features*2, activation=\"relu\"))\n",
        "\n",
        "# Additional hidden layer\n",
        "nn.add(tf.keras.layers.Dense(units=number_input_features, activation=\"relu\"))\n",
        "\n",
        "# Output layer\n",
        "nn.add(tf.keras.layers.Dense(units=1, activation=\"sigmoid\"))\n",
        "\n",
        "# Compile the model with custom optimizer with adjusted learning rate\n",
        "optimizer = tf.keras.optimizers.Adam(learning_rate=0.001)\n",
        "nn.compile(loss='binary_crossentropy', optimizer=optimizer, metrics=['accuracy'])\n",
        "\n",
        "# Adjusting Training (e.g., increased epochs and added batch size)\n",
        "num_epochs = 100\n",
        "history = nn.fit(\n",
        "    X_train_scaled,\n",
        "    y_train,\n",
        "    epochs=num_epochs,\n",
        "    batch_size=32,\n",
        "    validation_data=(X_test_scaled, y_test),\n",
        "    verbose=1,\n",
        ")"
      ]
    },
    {
      "cell_type": "code",
      "execution_count": 33,
      "metadata": {
        "colab": {
          "base_uri": "https://localhost:8080/"
        },
        "id": "409a4x_UnLyL",
        "outputId": "01f3287e-8285-4551-b8e3-a45536a56f43"
      },
      "outputs": [
        {
          "name": "stdout",
          "output_type": "stream",
          "text": [
            "268/268 - 0s - loss: 0.5903 - accuracy: 0.7226 - 179ms/epoch - 667us/step\n",
            "Loss: 0.5903311371803284, Accuracy: 0.7225655913352966\n"
          ]
        }
      ],
      "source": [
        "# Evaluate the model using the test data\n",
        "model_loss, model_accuracy = nn.evaluate(X_test_scaled,y_test,verbose=2)\n",
        "print(f\"Loss: {model_loss}, Accuracy: {model_accuracy}\")"
      ]
    },
    {
      "cell_type": "code",
      "execution_count": 35,
      "metadata": {},
      "outputs": [
        {
          "name": "stdout",
          "output_type": "stream",
          "text": [
            "Epoch 1/100\n",
            "804/804 [==============================] - 2s 1ms/step - loss: 0.8006 - accuracy: 0.7191 - val_loss: 0.5931 - val_accuracy: 0.7220\n",
            "Epoch 2/100\n",
            "804/804 [==============================] - 1s 2ms/step - loss: 0.5884 - accuracy: 0.7247 - val_loss: 0.5862 - val_accuracy: 0.7222\n",
            "Epoch 3/100\n",
            "804/804 [==============================] - 1s 1ms/step - loss: 0.5853 - accuracy: 0.7259 - val_loss: 0.5829 - val_accuracy: 0.7231\n",
            "Epoch 4/100\n",
            "804/804 [==============================] - 1s 1ms/step - loss: 0.5849 - accuracy: 0.7252 - val_loss: 0.5773 - val_accuracy: 0.7217\n",
            "Epoch 5/100\n",
            "804/804 [==============================] - 1s 1ms/step - loss: 0.5819 - accuracy: 0.7246 - val_loss: 0.5820 - val_accuracy: 0.7233\n",
            "Epoch 6/100\n",
            "804/804 [==============================] - 1s 1ms/step - loss: 0.5834 - accuracy: 0.7253 - val_loss: 0.5781 - val_accuracy: 0.7242\n",
            "Epoch 7/100\n",
            "804/804 [==============================] - 1s 1ms/step - loss: 0.5801 - accuracy: 0.7273 - val_loss: 0.5791 - val_accuracy: 0.7223\n",
            "Epoch 8/100\n",
            "804/804 [==============================] - 1s 1ms/step - loss: 0.5828 - accuracy: 0.7266 - val_loss: 0.5826 - val_accuracy: 0.7195\n",
            "Epoch 9/100\n",
            "804/804 [==============================] - 1s 1ms/step - loss: 0.5811 - accuracy: 0.7261 - val_loss: 0.5765 - val_accuracy: 0.7243\n",
            "Epoch 10/100\n",
            "804/804 [==============================] - 1s 1ms/step - loss: 0.5806 - accuracy: 0.7270 - val_loss: 0.5807 - val_accuracy: 0.7256\n",
            "Epoch 11/100\n",
            "804/804 [==============================] - 1s 1ms/step - loss: 0.5802 - accuracy: 0.7252 - val_loss: 0.5846 - val_accuracy: 0.7219\n",
            "Epoch 12/100\n",
            "804/804 [==============================] - 1s 1ms/step - loss: 0.5806 - accuracy: 0.7264 - val_loss: 0.5767 - val_accuracy: 0.7247\n",
            "Epoch 13/100\n",
            "804/804 [==============================] - 1s 1ms/step - loss: 0.5816 - accuracy: 0.7255 - val_loss: 0.5771 - val_accuracy: 0.7222\n",
            "Epoch 14/100\n",
            "804/804 [==============================] - 1s 1ms/step - loss: 0.5801 - accuracy: 0.7257 - val_loss: 0.5794 - val_accuracy: 0.7234\n",
            "Epoch 15/100\n",
            "804/804 [==============================] - 1s 1ms/step - loss: 0.5811 - accuracy: 0.7253 - val_loss: 0.5817 - val_accuracy: 0.7181\n",
            "Epoch 16/100\n",
            "804/804 [==============================] - 1s 1ms/step - loss: 0.5790 - accuracy: 0.7267 - val_loss: 0.5804 - val_accuracy: 0.7230\n",
            "Epoch 17/100\n",
            "804/804 [==============================] - 1s 1ms/step - loss: 0.5779 - accuracy: 0.7278 - val_loss: 0.5787 - val_accuracy: 0.7247\n",
            "Epoch 18/100\n",
            "804/804 [==============================] - 1s 1ms/step - loss: 0.5777 - accuracy: 0.7268 - val_loss: 0.5782 - val_accuracy: 0.7256\n",
            "Epoch 19/100\n",
            "804/804 [==============================] - 1s 1ms/step - loss: 0.5803 - accuracy: 0.7256 - val_loss: 0.5771 - val_accuracy: 0.7254\n"
          ]
        }
      ],
      "source": [
        "from tensorflow.keras.regularizers import l2\n",
        "from tensorflow.keras.callbacks import EarlyStopping\n",
        "from tensorflow.keras.optimizers import Adam\n",
        "\n",
        "nn = tf.keras.models.Sequential()\n",
        "\n",
        "# First hidden layer with L2 regularization\n",
        "nn.add(tf.keras.layers.Dense(units=number_input_features*3, activation=\"swish\", kernel_regularizer=l2(0.01), input_dim=number_input_features))\n",
        "nn.add(tf.keras.layers.Dropout(0.2)) # 20% dropout\n",
        "\n",
        "# Second hidden layer with L2 regularization\n",
        "nn.add(tf.keras.layers.Dense(units=number_input_features*2, activation=\"relu\", kernel_regularizer=l2(0.01)))\n",
        "nn.add(tf.keras.layers.Dropout(0.2)) # 20% dropout\n",
        "\n",
        "# Additional hidden layer\n",
        "nn.add(tf.keras.layers.Dense(units=number_input_features, activation=\"relu\"))\n",
        "\n",
        "# Output layer\n",
        "nn.add(tf.keras.layers.Dense(units=1, activation=\"sigmoid\"))\n",
        "\n",
        "early_stopping = EarlyStopping(monitor='val_loss', patience=10, restore_best_weights=True)\n",
        "\n",
        "# Define the optimizer\n",
        "optimizer = Adam(learning_rate=0.001)\n",
        "\n",
        "# Compile the model\n",
        "nn.compile(loss='binary_crossentropy', optimizer=optimizer, metrics=['accuracy'])\n",
        "\n",
        "# Train the model\n",
        "history = nn.fit(\n",
        "    X_train_scaled,\n",
        "    y_train,\n",
        "    epochs=num_epochs,\n",
        "    batch_size=32,\n",
        "    validation_data=(X_test_scaled, y_test),\n",
        "    verbose=1,\n",
        "    callbacks=[early_stopping]  \n",
        ")\n",
        "\n"
      ]
    },
    {
      "cell_type": "code",
      "execution_count": 36,
      "metadata": {},
      "outputs": [
        {
          "name": "stdout",
          "output_type": "stream",
          "text": [
            "268/268 - 0s - loss: 0.5765 - accuracy: 0.7243 - 207ms/epoch - 771us/step\n",
            "Loss: 0.5765401721000671, Accuracy: 0.7243148684501648\n"
          ]
        }
      ],
      "source": [
        "# Evaluate the model using the test data\n",
        "model_loss, model_accuracy = nn.evaluate(X_test_scaled,y_test,verbose=2)\n",
        "print(f\"Loss: {model_loss}, Accuracy: {model_accuracy}\")"
      ]
    },
    {
      "cell_type": "code",
      "execution_count": 37,
      "metadata": {
        "colab": {
          "base_uri": "https://localhost:8080/"
        },
        "id": "M_GW94f2XvAN",
        "outputId": "5ec6e1b5-fb09-4869-aa81-51ce13650e5a"
      },
      "outputs": [
        {
          "name": "stdout",
          "output_type": "stream",
          "text": [
            "Model saved to trained_model.h5\n"
          ]
        }
      ],
      "source": [
        "# Export our model to HDF5 file\n",
        "nn.save(\"trained_model.h5\")\n",
        "\n",
        "print(\"Model saved to trained_model.h5\")"
      ]
    }
  ],
  "metadata": {
    "colab": {
      "provenance": []
    },
    "kernelspec": {
      "display_name": "Python 3",
      "language": "python",
      "name": "python3"
    },
    "language_info": {
      "codemirror_mode": {
        "name": "ipython",
        "version": 3
      },
      "file_extension": ".py",
      "mimetype": "text/x-python",
      "name": "python",
      "nbconvert_exporter": "python",
      "pygments_lexer": "ipython3",
      "version": "3.10.12"
    },
    "vscode": {
      "interpreter": {
        "hash": "31f2aee4e71d21fbe5cf8b01ff0e069b9275f58929596ceb00d14d90e3e16cd6"
      }
    }
  },
  "nbformat": 4,
  "nbformat_minor": 0
}
